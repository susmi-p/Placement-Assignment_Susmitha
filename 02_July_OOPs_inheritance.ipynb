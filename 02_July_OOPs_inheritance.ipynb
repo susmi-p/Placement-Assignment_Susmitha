{
 "cells": [
  {
   "cell_type": "markdown",
   "id": "c5cf6740-726c-4557-bdd7-9ab41ddd48be",
   "metadata": {},
   "source": [
    "1. Explain what inheritance is in object-oriented programming and why it is used."
   ]
  },
  {
   "cell_type": "markdown",
   "id": "81e46088-cc73-424d-86d1-5164bb075875",
   "metadata": {},
   "source": [
    "-In object-oriented programming (OOP), inheritance is a mechanism that allows a class to inherit properties and behaviors from another class. It is a fundamental concept in OOP that promotes code reuse and establishes relationships between classes.\n",
    "\n",
    "-Inheritance allows programmers to create classes that are built upon existing classes, to specify a new implementation while maintaining the same behaviors .\n",
    "\n"
   ]
  },
  {
   "cell_type": "markdown",
   "id": "84ff8686-8cce-47a5-bbf0-4b01ad674b68",
   "metadata": {},
   "source": [
    "2. Discuss the concept of single inheritance and multiple inheritance, highlighting their differences and advantages."
   ]
  },
  {
   "cell_type": "markdown",
   "id": "9af40105-c997-4bd9-9ce5-f31394e80ac5",
   "metadata": {},
   "source": [
    "#Single Inheritence:\n",
    "\n",
    "-Single inheritance enables a derived class to inherit properties from a single parent class, thus enabling code reusability and the addition of new features to existing code.\n",
    "\n",
    "-Single inheritance requires small run time as compared to multiple inheritance due to less overhead.\n",
    "\n",
    "#Multiple Inheritence:\n",
    "\n",
    "-When a class can be derived from more than one base class this type of inheritance is called multiple inheritances. In multiple inheritances, all the features of the base classes are inherited into the derived class.\n",
    "\n",
    "-Multiple inheritance requires more run time time as compared to single inheritance due to more overhead\n"
   ]
  },
  {
   "cell_type": "markdown",
   "id": "403e1433-4387-406a-9537-236d8d7b2e64",
   "metadata": {},
   "source": [
    "3. Explain the terms \"base class\" and \"derived class\" in the context of inheritance."
   ]
  },
  {
   "cell_type": "markdown",
   "id": "34790f7c-e3d4-4182-8cac-b775acaa9967",
   "metadata": {},
   "source": [
    "-The class whose members are inherited is called the base class. The class that inherits the members of the base class is called the derived class.\n",
    "\n",
    "-It allows you to define a child class that reuses (inherits), extends, or modifies the behavior of a parent class.\n",
    "\n",
    "-The derived class inherits all members and member functions of a base class. The derived class can have more functionality with respect to the Base class and can easily access the Base class. A Derived class is also called a child class or subclass."
   ]
  },
  {
   "cell_type": "markdown",
   "id": "f1a55a71-7bef-4bba-9b5b-2b012206177f",
   "metadata": {},
   "source": [
    "4. What is the significance of the \"protected\" access modifier in inheritance? How does it differ from \"private\" and \"public\" modifiers?"
   ]
  },
  {
   "cell_type": "markdown",
   "id": "a8a40ed4-1e90-4688-81e4-5f3764b8ea5a",
   "metadata": {},
   "source": [
    "#protected modifiers:\n",
    "\n",
    "-Class properties and methods with protected access modifier can be accessed within the class and from the class that inherits the protected class. In python, protected members and methods are declared using single underscore as prefix before their names (‘_’).\n",
    "\n",
    "#public modifiers:\n",
    "\n",
    "-By default the member variables and methods are public which means they can be accessed from anywhere outside or inside the class. No public keyword is required to make the class or methods and properties public.\n",
    "\n",
    "#private modifier:\n",
    "\n",
    "-Class properties and methods with private access modifier can only be accessed within the class where they are defined and cannot be accessed outside the class. In Python private properties and methods are declared by adding a prefix with two underscores before their declaration (‘__’)."
   ]
  },
  {
   "cell_type": "markdown",
   "id": "6f3f4135-1ada-455b-bc24-e12d2f2ff438",
   "metadata": {},
   "source": [
    "5. What is the purpose of the \"super\" keyword in inheritance? Provide an example."
   ]
  },
  {
   "cell_type": "markdown",
   "id": "ffd54562-4e9b-42d2-a479-bd1a8c397ce4",
   "metadata": {},
   "source": [
    "-The super keyword refers to superclass (parent) objects. It is used to call superclass methods, and to access the superclass constructor. The most common use of the super keyword is to eliminate the confusion between superclasses and subclasses that have methods with the same name.\n",
    "\n",
    "-In Python, the super() function is used to refer to the parent class or superclass. It enabling you to extend and customize the functionality inherited from the parent class."
   ]
  },
  {
   "cell_type": "code",
   "execution_count": 3,
   "id": "454bfbfa-5e2f-4a05-9015-874f500f8dda",
   "metadata": {},
   "outputs": [],
   "source": [
    "class Emp():\n",
    "    def __init__(self, id, name, Address):\n",
    "        self.id = id\n",
    "        self.name = name\n",
    "        self.Address = Address\n",
    "\n",
    "# Class freelancer inherits EMP\n",
    "\n",
    "class Emp_details(Emp):\n",
    "    def __init__(self, id, name, Address, Email):\n",
    "        super().__init__(id, name, Address)\n",
    "        self.Email = Email\n",
    "        print(f\"The Empoyee details are - id : {self.id} ,name : {self.name} ,Address : {self.Address} ,Email : {self.Email } \")"
   ]
  },
  {
   "cell_type": "code",
   "execution_count": 7,
   "id": "b12694af-a24c-49e2-83e1-274a0cc277e6",
   "metadata": {},
   "outputs": [
    {
     "name": "stdout",
     "output_type": "stream",
     "text": [
      "The Empoyee details are - id : 50 ,name : susmitha ,Address : Banglore ,Email : susmitha@gmail.com \n"
     ]
    }
   ],
   "source": [
    "Emp_1 = Emp_details(50,\"susmitha\",\"Banglore\",\"susmitha@gmail.com\")"
   ]
  },
  {
   "cell_type": "markdown",
   "id": "6fba39c1-341e-4a9d-97f0-367cb55414e7",
   "metadata": {},
   "source": [
    "6. Create a base class called \"Vehicle\" with attributes like \"make\", \"model\", and \"year\".Then, create a derived class called \"Car\" that inherits from \"Vehicle\" and adds an attribute called \"fuel_type\". Implement appropriate methods in both classes."
   ]
  },
  {
   "cell_type": "code",
   "execution_count": 14,
   "id": "0041102f-cd02-4f58-9721-9eb60141d6fb",
   "metadata": {
    "jp-MarkdownHeadingCollapsed": true,
    "tags": []
   },
   "outputs": [],
   "source": [
    "class Vehicle:\n",
    "    def __init__(self,make,model,year):\n",
    "        self.make=make\n",
    "        self.model=model\n",
    "        self.year=year\n",
    "        \n",
    "class Car(Vehicle):\n",
    "    def __init__(self,make,model,year,fuel_type):\n",
    "        super().__init__(make,model,year)\n",
    "        self.fuel_type=fuel_type\n",
    "        print(f\"The car is make of  {self.make} ,model {self.model} in year {self.year} and fuel type is : {self.fuel_type} \")\n",
    "    "
   ]
  },
  {
   "cell_type": "code",
   "execution_count": 15,
   "id": "ba5b7746-b295-4bd1-8e44-8f459a4d05d3",
   "metadata": {},
   "outputs": [
    {
     "name": "stdout",
     "output_type": "stream",
     "text": [
      "The car is make of  Honda ,model xyz in year 2015 and fuel type is : Diesel \n"
     ]
    }
   ],
   "source": [
    "car=Car(\"Honda\",\"xyz\",2015,\"Diesel\")"
   ]
  },
  {
   "cell_type": "markdown",
   "id": "3a897da7-3e73-426c-a9ac-90b7c42438c1",
   "metadata": {},
   "source": [
    "7. Create a base class called \"Employee\" with attributes like \"name\" and \"salary.\"Derive two classes, \"Manager\" and \"Developer,\" from \"Employee.\" Add an additional attribute called \"department\" for the \"Manager\" class and \"programming_language\" for the \"Developer\" class."
   ]
  },
  {
   "cell_type": "code",
   "execution_count": 1,
   "id": "877f747b-3476-4b1e-8861-7bfe3f2f592f",
   "metadata": {},
   "outputs": [],
   "source": [
    "class Employee:\n",
    "    def __init__(self,name,salary):\n",
    "        self.name=name\n",
    "        self.salary=salary\n",
    "        \n",
    "class Manager(Employee):\n",
    "    def __init__(self,name,salary,department):\n",
    "        super().__init__(name,salary)\n",
    "        self.department=department\n",
    "        print(f\"The manager name is {self.name} with salary {self.salary} of department {self.department}\")\n",
    "\n",
    "class Developer(Employee):\n",
    "    def __init__(self,name,salary,programming_language):\n",
    "        super().__init__(name,salary)\n",
    "        self.programming_language=programming_language\n",
    "        print(f\"The Developer name is {self.name} of salary {self.salary} working on {self.programming_language}\")"
   ]
  },
  {
   "cell_type": "code",
   "execution_count": 4,
   "id": "a76f76cc-1b4a-4890-b1c0-d91ea7152076",
   "metadata": {},
   "outputs": [
    {
     "name": "stdout",
     "output_type": "stream",
     "text": [
      "The manager name is Susmitha with salary 30lpa of department BFS\n",
      "The Developer name is Susmitha of salary 20lpa working on java\n"
     ]
    }
   ],
   "source": [
    "manager=Manager(\"Susmitha\",\"30lpa\",\"BFS\")\n",
    "developer=Developer(\"Susmitha\",\"20lpa\",\"java\")"
   ]
  },
  {
   "cell_type": "markdown",
   "id": "05881697-2a7f-4250-949b-c270d388e36f",
   "metadata": {},
   "source": [
    "8. Design a base class called \"Shape\" with attributes like \"colour\" and \"border_width.\" Create derived classes, \"Rectangle\" and \"Circle,\" that inherit from \"Shape\" and add specific attributes like \"length\" and \"width\" for the \"Rectangle\" class and \"radius\" for the \"Circle\" class."
   ]
  },
  {
   "cell_type": "code",
   "execution_count": 14,
   "id": "e410d00d-a459-4947-b26d-880ac9e0bf99",
   "metadata": {},
   "outputs": [],
   "source": [
    "class Shape:\n",
    "    def __init__(self,color,border_width):\n",
    "        self.color=color\n",
    "        self.border_width=border_width\n",
    "        \n",
    "class Rectangle(Shape):\n",
    "    def __init__(self,color,border_width,length,width):\n",
    "        super().__init__(color,border_width)\n",
    "        self.length=length\n",
    "        self.width=width\n",
    "        print(f\"The color of reactangle is :{self.color} border_width is: {self.border_width} having length and width as :{self.length},{self.width}\")\n",
    "        \n",
    "        \n",
    "class Circle(Shape):\n",
    "    def __init__(self,color,border_width,radius):\n",
    "        super().__init__(color,border_width)\n",
    "        self.radius=radius\n",
    "        print(f\"The color of circle is :{self.color} border_width is :{self.border_width} having radius as :{self.radius}\")\n",
    "        "
   ]
  },
  {
   "cell_type": "code",
   "execution_count": 15,
   "id": "2ea5a8f2-d973-4d2e-bccb-0529d7ffe229",
   "metadata": {},
   "outputs": [
    {
     "name": "stdout",
     "output_type": "stream",
     "text": [
      "The color of reactangle is :Red border_width is: 6 having length and width as :4,6\n",
      "The color of circle is :Yellow border_width is :6 having radius as :6\n"
     ]
    }
   ],
   "source": [
    "rectangle=Rectangle(\"Red\",6,4,6)\n",
    "circle=Circle(\"Yellow\",6,6)"
   ]
  },
  {
   "cell_type": "markdown",
   "id": "9a819554-d05b-4b34-9802-d74cafd7a89b",
   "metadata": {},
   "source": [
    "9. Create a base class called \"Device\" with attributes like \"brand\" and \"model.\" Derive two classes, \"Phone\" and \"Tablet,\" from \"Device.\" Add specific attributes like \"screen_size\" for the \"Phone\" class and \"battery_capacity\" for the \"Tablet\" class."
   ]
  },
  {
   "cell_type": "code",
   "execution_count": 21,
   "id": "56c77851-d7d5-4355-b8ea-265847a8ea88",
   "metadata": {},
   "outputs": [],
   "source": [
    "class Device:\n",
    "    def __init__(self,brand,model):\n",
    "        self.brand=brand\n",
    "        self.model=model\n",
    "        \n",
    "class Phone(Device):\n",
    "    def __init__(self,brand,model,screen_size):\n",
    "        super().__init__(brand,model)\n",
    "        self.screen_size=screen_size\n",
    "        print(f\"The Phone of brand :{self.brand} ,model :{self.model} ,screen_size :{self.screen_size}\")\n",
    "        \n",
    "class Tablet(Device):\n",
    "    def __init__(self,brand,model,battery_capacity):\n",
    "        super().__init__(brand,model)\n",
    "        self.battery_capacity=battery_capacity\n",
    "        print(f\"The Tablet of brand : {self.brand} ,model :{self.model} ,battery_capacity :{self.battery_capacity}\")"
   ]
  },
  {
   "cell_type": "code",
   "execution_count": 22,
   "id": "ff7b1182-ae07-4817-bb9b-41d7be5bae3a",
   "metadata": {},
   "outputs": [
    {
     "name": "stdout",
     "output_type": "stream",
     "text": [
      "The Phone of brand :apple ,model :iphone14 ,screen_size :6*5\n",
      "The Tablet of brand : mi ,model :xyz ,battery_capacity :5000mph\n"
     ]
    }
   ],
   "source": [
    "phone=Phone(\"apple\",\"iphone14\",\"6*5\")\n",
    "table=Tablet(\"mi\",\"xyz\",\"5000mph\")"
   ]
  },
  {
   "cell_type": "markdown",
   "id": "4b077ce6-dfe8-4a5b-9c68-aa9dff0d6d48",
   "metadata": {},
   "source": [
    "10. Create a base class called \"BankAccount\" with attributes like \"account_number\" and \"balance.\" Derive two classes, \"SavingsAccount\" and \"CheckingAccount,\" from \"BankAccount.\" Add specific methods like \"calculate_interest\" for the \"SavingsAccount\" class and \"deduct_fees\" for the \"CheckingAccount\" class."
   ]
  },
  {
   "cell_type": "code",
   "execution_count": 25,
   "id": "dd67f345-4e04-4851-8ab2-4775f30127d6",
   "metadata": {},
   "outputs": [],
   "source": [
    "class BankAccount:\n",
    "    def __init__(self,account_number,balance):\n",
    "        self.account_number=account_number\n",
    "        self.balance=balance\n",
    "        \n",
    "class SavingsAccount(BankAccount):\n",
    "    \n",
    "    def __init__(self,account_number,balance,Intrest_rate):\n",
    "        super().__init__(account_number,balance)\n",
    "        self.Intrest_rate=Intrest_rate\n",
    "        #intrest of n% per year\n",
    "        self.calculate_interest=self.balance*self.Intrest_rate/100*1\n",
    "        print(f\"The savings account details of a customer is-account number :{self.account_number},balance:{self.balance},calculate intrest:{self.calculate_interest}\")\n",
    "    \n",
    "class CheckingAccount(BankAccount):\n",
    "    def __init__(self,account_number,balance,available_balance):\n",
    "        super().__init__(account_number,balance)\n",
    "        self.available_balance=available_balance\n",
    "        self.deduct_fees=self.balance-self.available_balance\n",
    "        #deduct_fees from balance\n",
    "        print(f\"The checking account details are-account number :{self.account_number},balance:{self.balance},deduct_fees :{self.deduct_fees} \")\n",
    "    "
   ]
  },
  {
   "cell_type": "code",
   "execution_count": 28,
   "id": "e8049183-4aa6-4441-99d3-d88cd2b11e00",
   "metadata": {},
   "outputs": [
    {
     "name": "stdout",
     "output_type": "stream",
     "text": [
      "The savings account details of a customer is-account number :416656526,balance:50000,calculate intrest:2000.0\n",
      "The checking account details are-account number :354654353,balance:40000,deduct_fees :38000 \n"
     ]
    }
   ],
   "source": [
    "savingsaccount=SavingsAccount(416656526,50000,4)\n",
    "checkingaccount=CheckingAccount(354654353,40000,2000)"
   ]
  },
  {
   "cell_type": "code",
   "execution_count": null,
   "id": "445d3bbd-2acd-4252-9387-6e255e4cbf1b",
   "metadata": {},
   "outputs": [],
   "source": []
  },
  {
   "cell_type": "code",
   "execution_count": null,
   "id": "2bffc407-0b90-49d0-a420-d0d7d3d4a44c",
   "metadata": {},
   "outputs": [],
   "source": []
  },
  {
   "cell_type": "code",
   "execution_count": null,
   "id": "542a4081-0475-4085-8684-e66579b13189",
   "metadata": {},
   "outputs": [],
   "source": []
  },
  {
   "cell_type": "code",
   "execution_count": null,
   "id": "cf24264f-48fc-405c-b22f-f326bc6c000d",
   "metadata": {},
   "outputs": [],
   "source": []
  },
  {
   "cell_type": "code",
   "execution_count": null,
   "id": "10b4a4a1-96bb-4bfd-be48-f6b120e62804",
   "metadata": {},
   "outputs": [],
   "source": []
  },
  {
   "cell_type": "code",
   "execution_count": null,
   "id": "85e52298-4b79-4896-afd9-c9a2e42a3d2a",
   "metadata": {},
   "outputs": [],
   "source": []
  }
 ],
 "metadata": {
  "kernelspec": {
   "display_name": "Python 3 (ipykernel)",
   "language": "python",
   "name": "python3"
  },
  "language_info": {
   "codemirror_mode": {
    "name": "ipython",
    "version": 3
   },
   "file_extension": ".py",
   "mimetype": "text/x-python",
   "name": "python",
   "nbconvert_exporter": "python",
   "pygments_lexer": "ipython3",
   "version": "3.10.6"
  }
 },
 "nbformat": 4,
 "nbformat_minor": 5
}
