{
 "cells": [
  {
   "cell_type": "code",
   "execution_count": 1,
   "id": "ad9af206-2305-4807-b0c1-81bf35ffb115",
   "metadata": {},
   "outputs": [],
   "source": [
    "#1. Why are functions advantageous to have in your programs?"
   ]
  },
  {
   "cell_type": "code",
   "execution_count": null,
   "id": "98ab3f87-38c7-4ead-b9d3-9acbad800721",
   "metadata": {},
   "outputs": [],
   "source": [
    "-Functions helps to code in a organized manner\n",
    "-It helps for code reusibility\n",
    "-It helps to avoid repetition of code\n",
    "-It helps for shoter,easy to read,easy to update code"
   ]
  },
  {
   "cell_type": "code",
   "execution_count": 2,
   "id": "28007705-8a7d-4648-8ed6-3b232b243580",
   "metadata": {},
   "outputs": [],
   "source": [
    "#2. When does the code in a function run: when it's specified or when it's called?"
   ]
  },
  {
   "cell_type": "code",
   "execution_count": null,
   "id": "2d4a5b4e-6585-4c89-a45f-e65a54f327c8",
   "metadata": {},
   "outputs": [],
   "source": [
    "-The code in a function executes when the function called not when defined"
   ]
  },
  {
   "cell_type": "code",
   "execution_count": 4,
   "id": "9d109fbe-223d-4422-8c57-9c4901c956bb",
   "metadata": {},
   "outputs": [],
   "source": [
    "def s():\n",
    "    print(\"Susmitha\")"
   ]
  },
  {
   "cell_type": "code",
   "execution_count": 5,
   "id": "191efef1-c688-42b3-91a0-31c44ed62ab3",
   "metadata": {},
   "outputs": [
    {
     "name": "stdout",
     "output_type": "stream",
     "text": [
      "Susmitha\n"
     ]
    }
   ],
   "source": [
    "s()#function calling"
   ]
  },
  {
   "cell_type": "code",
   "execution_count": null,
   "id": "e2f35f93-69f3-444b-9481-a199ba2c06a6",
   "metadata": {},
   "outputs": [],
   "source": [
    "#3. What statement creates a function?"
   ]
  },
  {
   "cell_type": "code",
   "execution_count": null,
   "id": "1e4c2b85-34d6-497e-b697-e1295962003d",
   "metadata": {},
   "outputs": [],
   "source": [
    "-To create a function in python we have to define a function with def keyword and followed by function identifier name() with paratheses and a colon."
   ]
  },
  {
   "cell_type": "code",
   "execution_count": 6,
   "id": "35ee102c-337c-457c-9a5b-a763452f386c",
   "metadata": {},
   "outputs": [
    {
     "name": "stdout",
     "output_type": "stream",
     "text": [
      "Susmitha\n"
     ]
    }
   ],
   "source": [
    "def s():\n",
    "    print(\"Susmitha\")\n",
    "s()"
   ]
  },
  {
   "cell_type": "code",
   "execution_count": null,
   "id": "bdf339ef-4084-4eaa-812a-bb87b2960ffe",
   "metadata": {},
   "outputs": [],
   "source": [
    "#4. What is the difference between a function and a function call?"
   ]
  },
  {
   "cell_type": "code",
   "execution_count": null,
   "id": "cd7196ec-7cd7-4425-a87b-d1851c86dfea",
   "metadata": {},
   "outputs": [],
   "source": [
    "-Function mainly we create for reusability of code in a program whenever that functions code required here no output is return unless we call function\n",
    "-Function call is calling that function which is created before to return the data which is required at that place."
   ]
  },
  {
   "cell_type": "code",
   "execution_count": null,
   "id": "009d53de-6560-4b0c-8764-d6102b2a996b",
   "metadata": {},
   "outputs": [],
   "source": [
    "#5. How many global scopes are there in a Python program? How many local scopes?"
   ]
  },
  {
   "cell_type": "code",
   "execution_count": null,
   "id": "4bb22d96-32ff-4986-97fc-2e2f12dd8d37",
   "metadata": {},
   "outputs": [],
   "source": [
    "-The global python scope per program execution is one for entire program until program terminates and names would remember their values from the previous run\n",
    "-The scope for local variables is limited to the function it is defined."
   ]
  },
  {
   "cell_type": "code",
   "execution_count": null,
   "id": "6c2989e6-dcce-46f6-bd2f-90e2c8d26c31",
   "metadata": {},
   "outputs": [],
   "source": [
    "#6. What happens to variables in a local scope when the function call returns?"
   ]
  },
  {
   "cell_type": "code",
   "execution_count": null,
   "id": "c5f23b6e-8c06-41a5-bf5c-60041659a30c",
   "metadata": {},
   "outputs": [],
   "source": [
    "-When the local variables defined for a function after function return i.e terminates ,the local variables are destroyed."
   ]
  },
  {
   "cell_type": "code",
   "execution_count": 7,
   "id": "95d5f5ec-debc-4152-ba48-b9c600b8d30a",
   "metadata": {},
   "outputs": [],
   "source": [
    "#7. What is the concept of a return value? Is it possible to have a return value in an expression?"
   ]
  },
  {
   "cell_type": "code",
   "execution_count": null,
   "id": "cac7ff82-0255-405a-988f-6f7000c47f95",
   "metadata": {},
   "outputs": [],
   "source": [
    "-Return is a statement which is used when a certain task is completed and returns a function.According to task it performs in a function value will return."
   ]
  },
  {
   "cell_type": "code",
   "execution_count": null,
   "id": "f9380bf8-6500-4178-942b-eceb5e478490",
   "metadata": {},
   "outputs": [],
   "source": [
    "#8. If a function does not have a return statement, what is the return value of a call to that function?"
   ]
  },
  {
   "cell_type": "code",
   "execution_count": null,
   "id": "f7017e89-182a-403a-98ac-317988c93f88",
   "metadata": {},
   "outputs": [],
   "source": [
    "-Whatever the function it may be it should return a value.Without a return value the function return 'none'"
   ]
  },
  {
   "cell_type": "code",
   "execution_count": null,
   "id": "dad8a1fb-1e65-4fe7-a006-a5856e50652e",
   "metadata": {},
   "outputs": [],
   "source": [
    "#9. How do you make a function variable refer to the global variable?"
   ]
  },
  {
   "cell_type": "code",
   "execution_count": null,
   "id": "9fd79491-1afa-47ae-ba55-7009f731662a",
   "metadata": {},
   "outputs": [],
   "source": [
    "-when we create a variable inside a function ,variable is local andcan be used inside that function\n",
    "-But global  variable when we create we use a keyword 'global' inside function"
   ]
  },
  {
   "cell_type": "code",
   "execution_count": 8,
   "id": "5e9ae84d-e4cf-4303-8a01-0218e6c72bc2",
   "metadata": {},
   "outputs": [
    {
     "data": {
      "text/plain": [
       "NoneType"
      ]
     },
     "execution_count": 8,
     "metadata": {},
     "output_type": "execute_result"
    }
   ],
   "source": [
    "#10. What is the data type of None?\n",
    "type(None)#datatype of none is nonetype"
   ]
  },
  {
   "cell_type": "code",
   "execution_count": null,
   "id": "7bcea9ec-441d-431b-aeff-4f07ec968e91",
   "metadata": {},
   "outputs": [],
   "source": [
    "#11. What does the sentence import areallyourpetsnamederic do?"
   ]
  },
  {
   "cell_type": "code",
   "execution_count": null,
   "id": "7b3af1c8-25e3-4580-ac89-1da9ab5593d4",
   "metadata": {},
   "outputs": [],
   "source": [
    "-This imports a module named areallyourpetsnamederic."
   ]
  },
  {
   "cell_type": "code",
   "execution_count": null,
   "id": "22e40977-b088-4270-9a76-c9ccec39e276",
   "metadata": {},
   "outputs": [],
   "source": [
    "#12. If you had a bacon() feature in a spam module, what would you call it after importing spam?"
   ]
  },
  {
   "cell_type": "code",
   "execution_count": null,
   "id": "25e3311a-253e-472a-a387-758551ca1c6e",
   "metadata": {},
   "outputs": [],
   "source": [
    "-After importing spam function can be called as spam.bacon()."
   ]
  },
  {
   "cell_type": "code",
   "execution_count": null,
   "id": "acb6bb2d-ffe6-4221-8e40-98a11904c868",
   "metadata": {},
   "outputs": [],
   "source": [
    "#13. What can you do to save a programme from crashing if it encounters an error?"
   ]
  },
  {
   "cell_type": "code",
   "execution_count": null,
   "id": "62d8b338-3c41-44d4-ba64-03ca68eba686",
   "metadata": {},
   "outputs": [],
   "source": [
    "-If we encounter any error to avoid crashing ,error handling can be used to know why theerror occured and exit the process."
   ]
  },
  {
   "cell_type": "code",
   "execution_count": null,
   "id": "70945c68-380b-46e7-9e37-8e2a59ab8c5a",
   "metadata": {},
   "outputs": [],
   "source": [
    "#14. What is the purpose of the try clause? What is the purpose of the except clause?"
   ]
  },
  {
   "cell_type": "code",
   "execution_count": null,
   "id": "1914ba37-0a7b-4c81-bb5c-972ae32c451f",
   "metadata": {},
   "outputs": [],
   "source": [
    "-Try clause block ,where code having error goes here\n",
    "-Except block helps to handle error and executes if an error occur"
   ]
  },
  {
   "cell_type": "code",
   "execution_count": null,
   "id": "99d4acb1-e6ee-4a99-b3a1-045e7f552c9e",
   "metadata": {},
   "outputs": [],
   "source": []
  }
 ],
 "metadata": {
  "kernelspec": {
   "display_name": "Python 3 (ipykernel)",
   "language": "python",
   "name": "python3"
  },
  "language_info": {
   "codemirror_mode": {
    "name": "ipython",
    "version": 3
   },
   "file_extension": ".py",
   "mimetype": "text/x-python",
   "name": "python",
   "nbconvert_exporter": "python",
   "pygments_lexer": "ipython3",
   "version": "3.10.6"
  }
 },
 "nbformat": 4,
 "nbformat_minor": 5
}
