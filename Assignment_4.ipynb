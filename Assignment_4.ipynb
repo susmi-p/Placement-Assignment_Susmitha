{
 "cells": [
  {
   "cell_type": "code",
   "execution_count": null,
   "id": "c27a1925-8692-4619-8451-59bf64c3407d",
   "metadata": {},
   "outputs": [],
   "source": [
    "#1. What exactly is []?\n",
    "-'[]' It is an empty list ,which containes no value in it.All the lists were wrapped through this brackets.It also used to know index values."
   ]
  },
  {
   "cell_type": "code",
   "execution_count": null,
   "id": "09b845eb-a491-4cef-bf4d-cf305d1e74ea",
   "metadata": {},
   "outputs": [],
   "source": [
    "#2. In a list of values stored in a variable called spam, how would you assign the value 'hello' as the\n",
    "#third value? (Assume [2, 4, 6, 8, 10] are in spam.)"
   ]
  },
  {
   "cell_type": "code",
   "execution_count": 3,
   "id": "9d9908e5-3733-409c-acde-64e69b8a4bde",
   "metadata": {},
   "outputs": [
    {
     "name": "stdout",
     "output_type": "stream",
     "text": [
      "[2, 4, 'hello', 8, 10]\n"
     ]
    }
   ],
   "source": [
    "spam=[2,4,6,8,10]\n",
    "spam[2]=\"hello\"\n",
    "print(spam)"
   ]
  },
  {
   "cell_type": "code",
   "execution_count": null,
   "id": "efdde7bc-517c-4233-90b7-a2f5e4c9be60",
   "metadata": {},
   "outputs": [],
   "source": [
    "#Let's pretend the spam includes the list ['a','b','c','d'] for the next three queries."
   ]
  },
  {
   "cell_type": "code",
   "execution_count": null,
   "id": "42b10bb3-426d-4fee-a6d6-eebf7c104413",
   "metadata": {},
   "outputs": [],
   "source": [
    "#3. What is the value of spam[int(int('3' * 2) / 11)]?"
   ]
  },
  {
   "cell_type": "code",
   "execution_count": 10,
   "id": "5c493d3e-469b-4abd-a1cf-5a63dcb04ee8",
   "metadata": {},
   "outputs": [
    {
     "data": {
      "text/plain": [
       "'d'"
      ]
     },
     "execution_count": 10,
     "metadata": {},
     "output_type": "execute_result"
    }
   ],
   "source": [
    "spam=['a','b','c','d']\n",
    "spam[int(int('3' * 2) / 11)]"
   ]
  },
  {
   "cell_type": "code",
   "execution_count": 11,
   "id": "f86fef12-dfcb-40c4-929e-109dc48f74be",
   "metadata": {},
   "outputs": [
    {
     "data": {
      "text/plain": [
       "'33'"
      ]
     },
     "execution_count": 11,
     "metadata": {},
     "output_type": "execute_result"
    }
   ],
   "source": [
    "'3'*2"
   ]
  },
  {
   "cell_type": "code",
   "execution_count": 12,
   "id": "75a5a116-334b-4b2b-96dc-6b236b74889c",
   "metadata": {},
   "outputs": [
    {
     "data": {
      "text/plain": [
       "33"
      ]
     },
     "execution_count": 12,
     "metadata": {},
     "output_type": "execute_result"
    }
   ],
   "source": [
    "int('33')"
   ]
  },
  {
   "cell_type": "code",
   "execution_count": 13,
   "id": "02344ea1-7a79-4c67-8532-334ba57f8354",
   "metadata": {},
   "outputs": [
    {
     "data": {
      "text/plain": [
       "3.0"
      ]
     },
     "execution_count": 13,
     "metadata": {},
     "output_type": "execute_result"
    }
   ],
   "source": [
    "33/11"
   ]
  },
  {
   "cell_type": "code",
   "execution_count": 14,
   "id": "467ad329-715a-44e2-b164-562731c9fc07",
   "metadata": {},
   "outputs": [
    {
     "data": {
      "text/plain": [
       "3"
      ]
     },
     "execution_count": 14,
     "metadata": {},
     "output_type": "execute_result"
    }
   ],
   "source": [
    "int(33/11)"
   ]
  },
  {
   "cell_type": "code",
   "execution_count": 15,
   "id": "58177522-3643-4807-8ae0-f6301fc43719",
   "metadata": {},
   "outputs": [
    {
     "data": {
      "text/plain": [
       "'d'"
      ]
     },
     "execution_count": 15,
     "metadata": {},
     "output_type": "execute_result"
    }
   ],
   "source": [
    "spam[3]#index 3 of spam is 'd'"
   ]
  },
  {
   "cell_type": "code",
   "execution_count": null,
   "id": "cfc9f7b1-9cb0-4073-9902-14a4b038a78a",
   "metadata": {},
   "outputs": [],
   "source": [
    "#4. What is the value of spam[-1]?"
   ]
  },
  {
   "cell_type": "code",
   "execution_count": 16,
   "id": "10eb5796-f3ba-41e7-859d-aa5d81b6ee00",
   "metadata": {},
   "outputs": [
    {
     "data": {
      "text/plain": [
       "'d'"
      ]
     },
     "execution_count": 16,
     "metadata": {},
     "output_type": "execute_result"
    }
   ],
   "source": [
    "spam[-1]#'-1' is the starting index of reverse order"
   ]
  },
  {
   "cell_type": "code",
   "execution_count": null,
   "id": "97aaecd7-7d49-4aca-9d71-17120bc74461",
   "metadata": {},
   "outputs": [],
   "source": [
    "#5. What is the value of spam[:2]?"
   ]
  },
  {
   "cell_type": "code",
   "execution_count": 17,
   "id": "a779a9e4-e424-414a-a089-bff1f2861aff",
   "metadata": {},
   "outputs": [
    {
     "data": {
      "text/plain": [
       "['a', 'b']"
      ]
     },
     "execution_count": 17,
     "metadata": {},
     "output_type": "execute_result"
    }
   ],
   "source": [
    "spam[:2]#lower bound not given default take from start,upperbound 2 i.e upto '2' index but not including 2nd index will print from spam list"
   ]
  },
  {
   "cell_type": "code",
   "execution_count": null,
   "id": "1ab3f4be-89a3-4299-982e-0397b2f08be7",
   "metadata": {},
   "outputs": [],
   "source": [
    "#Let's pretend bacon has the list [3.14, 'cat', 11, 'cat', True] for the next three questions."
   ]
  },
  {
   "cell_type": "code",
   "execution_count": 22,
   "id": "9fd1fd17-f925-4eb8-a822-94fbab070c45",
   "metadata": {},
   "outputs": [],
   "source": [
    "bacon=[3.14, 'cat', 11, 'cat', True]"
   ]
  },
  {
   "cell_type": "code",
   "execution_count": null,
   "id": "8a2deac4-b339-4cc3-a5fe-b0325b0284a1",
   "metadata": {},
   "outputs": [],
   "source": [
    "#6. What is the value of bacon.index('cat')?"
   ]
  },
  {
   "cell_type": "code",
   "execution_count": 19,
   "id": "14039b78-4259-4983-aaa9-534319a68448",
   "metadata": {},
   "outputs": [
    {
     "data": {
      "text/plain": [
       "1"
      ]
     },
     "execution_count": 19,
     "metadata": {},
     "output_type": "execute_result"
    }
   ],
   "source": [
    "bacon.index('cat')#it always takes first cats index"
   ]
  },
  {
   "cell_type": "code",
   "execution_count": null,
   "id": "aedb47ee-ed97-44d6-b723-6f44a6cda698",
   "metadata": {},
   "outputs": [],
   "source": [
    "#7. How does bacon.append(99) change the look of the list value in bacon?"
   ]
  },
  {
   "cell_type": "code",
   "execution_count": 23,
   "id": "d72e8ee8-47f0-4566-87bf-48b45cca6886",
   "metadata": {},
   "outputs": [
    {
     "name": "stdout",
     "output_type": "stream",
     "text": [
      "[3.14, 'cat', 11, 'cat', True, 99]\n"
     ]
    }
   ],
   "source": [
    "bacon.append(99)\n",
    "print(bacon)#99 will add at last of the list"
   ]
  },
  {
   "cell_type": "code",
   "execution_count": null,
   "id": "0272f43e-522f-476d-a50a-ed47f26c4a96",
   "metadata": {},
   "outputs": [],
   "source": [
    "#8. How does bacon.remove('cat') change the look of the list in bacon?"
   ]
  },
  {
   "cell_type": "code",
   "execution_count": 24,
   "id": "15fb00f4-688c-45d7-81f1-ad44ce61e539",
   "metadata": {},
   "outputs": [
    {
     "name": "stdout",
     "output_type": "stream",
     "text": [
      "[3.14, 11, 'cat', True, 99]\n"
     ]
    }
   ],
   "source": [
    "bacon.remove('cat')\n",
    "print(bacon)#it remove the first cat which is at 1st index"
   ]
  },
  {
   "cell_type": "code",
   "execution_count": null,
   "id": "638e48d4-cb75-412e-85b5-3d69f7ba74b9",
   "metadata": {},
   "outputs": [],
   "source": [
    "#9. What are the list concatenation and list replication operators?"
   ]
  },
  {
   "cell_type": "code",
   "execution_count": null,
   "id": "5e2f58c6-bd65-4b50-8326-8850c03afa87",
   "metadata": {},
   "outputs": [],
   "source": [
    "-'+'operator used for concatenation of lists.\n",
    "-'*' operator used for replication of lists."
   ]
  },
  {
   "cell_type": "code",
   "execution_count": 28,
   "id": "28855825-81c1-42a4-b2e9-89da7b90070d",
   "metadata": {},
   "outputs": [
    {
     "name": "stdout",
     "output_type": "stream",
     "text": [
      "[1, 2, 3, 4, 5, 6, 7, 8, 9, 10]\n",
      "[1, 2, 3, 4, 5, 1, 2, 3, 4, 5]\n"
     ]
    }
   ],
   "source": [
    "list1=[1,2,3,4,5]\n",
    "list2=[6,7,8,9,10]\n",
    "result=list1+list2\n",
    "print(result)#it adds 2 lists\n",
    "result1=list1*2\n",
    "print(result1)#its gives list1 2 times in a list"
   ]
  },
  {
   "cell_type": "code",
   "execution_count": 29,
   "id": "1ab19b7a-1d1f-4a37-8a73-0d3294346fef",
   "metadata": {},
   "outputs": [],
   "source": [
    "#10. What is difference between the list methods append() and insert()?"
   ]
  },
  {
   "cell_type": "code",
   "execution_count": null,
   "id": "9849d3bf-5a55-43d2-9ebf-a521413ee4dc",
   "metadata": {},
   "outputs": [],
   "source": [
    "-append() helps to add element at the end of the list\n",
    "-insert() helps to insert elements at a specific position in a list"
   ]
  },
  {
   "cell_type": "code",
   "execution_count": 30,
   "id": "e80198ad-2318-4959-9b11-b553b3600ca4",
   "metadata": {},
   "outputs": [],
   "source": [
    "#11. What are the two methods for removing items from a list?"
   ]
  },
  {
   "cell_type": "code",
   "execution_count": null,
   "id": "35c0e1d0-128a-4701-b9d3-055a2a3a48de",
   "metadata": {},
   "outputs": [],
   "source": [
    "-pop() its helps to remove element from the list based on the index we pass.\n",
    "-remove() it heps to remove the element which we want to remove and also it remove very first element that match the element we pass."
   ]
  },
  {
   "cell_type": "code",
   "execution_count": 31,
   "id": "894bb9a6-6f6f-4ca2-8f4f-19f15cd441b1",
   "metadata": {},
   "outputs": [],
   "source": [
    "#12. Describe how list values and string values are identical."
   ]
  },
  {
   "cell_type": "code",
   "execution_count": null,
   "id": "304d0e09-9c2a-4fe6-90ce-7de80ca50707",
   "metadata": {},
   "outputs": [],
   "source": [
    "-Both are ordered collection of elements\n",
    "-Both have lengths\n",
    "-both has position for items or chars called index\n",
    "-both are called sequence types "
   ]
  },
  {
   "cell_type": "code",
   "execution_count": null,
   "id": "e6fc35b9-40ee-4a82-8b46-f8f931bd58af",
   "metadata": {},
   "outputs": [],
   "source": [
    "#13. What's the difference between tuples and lists?"
   ]
  },
  {
   "cell_type": "code",
   "execution_count": null,
   "id": "b82d0dbc-f42c-4b76-aec6-0a913d1c8616",
   "metadata": {},
   "outputs": [],
   "source": [
    "-List are mutable but tuples are immutble\n",
    "-lists consumes more memory ,tuplesconsume less memory\n",
    "-Operations are better perform like deletion,insertion in list\n",
    "-[] it denotes list,()it denotes tuple\n",
    "-iteration is timeconsuming in lists,iteration is faster"
   ]
  },
  {
   "cell_type": "code",
   "execution_count": 32,
   "id": "861922c9-e88f-4d20-aad6-e9cfdc251809",
   "metadata": {},
   "outputs": [],
   "source": [
    "#14. How do you type a tuple value that only contains the integer 42?"
   ]
  },
  {
   "cell_type": "code",
   "execution_count": 4,
   "id": "4d3b7b7a-fd26-4a91-8938-b6cbd3e2803a",
   "metadata": {},
   "outputs": [
    {
     "data": {
      "text/plain": [
       "tuple"
      ]
     },
     "execution_count": 4,
     "metadata": {},
     "output_type": "execute_result"
    }
   ],
   "source": [
    "tuple=(42,)\n",
    "type(tuple)"
   ]
  },
  {
   "cell_type": "code",
   "execution_count": 39,
   "id": "741f40e1-d10c-4031-a44c-cddc8e33ec56",
   "metadata": {},
   "outputs": [],
   "source": [
    "#15. How do you get a list value's tuple form? How do you get a tuple value's list form?"
   ]
  },
  {
   "cell_type": "code",
   "execution_count": 2,
   "id": "95d1bdaf-b8db-4a0d-9485-6dbbe72ebe2b",
   "metadata": {},
   "outputs": [
    {
     "name": "stdout",
     "output_type": "stream",
     "text": [
      "[0, 2, 4, 6, 8]\n",
      "<class 'list'>\n"
     ]
    }
   ],
   "source": [
    "tuples = (0, 2, 4, 6, 8)\n",
    "list1 = list(tuples)\n",
    "print(list1)\n",
    "print(type(list1))"
   ]
  },
  {
   "cell_type": "code",
   "execution_count": 3,
   "id": "36f4a91e-c89a-4368-b97c-2b677b8a37a0",
   "metadata": {},
   "outputs": [
    {
     "name": "stdout",
     "output_type": "stream",
     "text": [
      "[56, 'jk', 9, 6]\n",
      "<class 'list'>\n"
     ]
    }
   ],
   "source": [
    "lists=[56,'jk',9,6]\n",
    "tuple1=tuple(lists)\n",
    "print(lists)\n",
    "print(type(lists))"
   ]
  },
  {
   "cell_type": "code",
   "execution_count": null,
   "id": "617bebcd-bfb8-434d-aa32-6613354392a9",
   "metadata": {},
   "outputs": [],
   "source": [
    "#16. Variables that \"contain\" list values are not necessarily lists themselves. Instead, what do they contain?"
   ]
  },
  {
   "cell_type": "code",
   "execution_count": null,
   "id": "6807d06c-a699-447f-ab13-712537008cef",
   "metadata": {},
   "outputs": [],
   "source": [
    "-Lists are used to store multiple items in a single variable.It may be int,char ,string,another list or tuple,dictionaries."
   ]
  },
  {
   "cell_type": "code",
   "execution_count": null,
   "id": "466c8961-f1fe-4389-b9d5-6ee666c58012",
   "metadata": {},
   "outputs": [],
   "source": [
    "#17. How do you distinguish between copy.copy() and copy.deepcopy()?"
   ]
  },
  {
   "cell_type": "code",
   "execution_count": null,
   "id": "a4e479ca-27ad-4ba6-a023-5798ab02e56e",
   "metadata": {},
   "outputs": [],
   "source": [
    "-copy() create reference to original object.If we change copied object automatically original object also changes.\n",
    "-deepcopy() creates new real copying of object to new one"
   ]
  }
 ],
 "metadata": {
  "kernelspec": {
   "display_name": "Python 3 (ipykernel)",
   "language": "python",
   "name": "python3"
  },
  "language_info": {
   "codemirror_mode": {
    "name": "ipython",
    "version": 3
   },
   "file_extension": ".py",
   "mimetype": "text/x-python",
   "name": "python",
   "nbconvert_exporter": "python",
   "pygments_lexer": "ipython3",
   "version": "3.10.6"
  }
 },
 "nbformat": 4,
 "nbformat_minor": 5
}
