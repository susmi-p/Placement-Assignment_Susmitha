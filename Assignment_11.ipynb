{
 "cells": [
  {
   "cell_type": "markdown",
   "id": "4aa4549d-a624-422d-8eb5-a223ad6c06ad",
   "metadata": {},
   "source": [
    "1. What is the role of the 'else' block in a try-except statement? Provide an example scenario where it would be useful."
   ]
  },
  {
   "cell_type": "code",
   "execution_count": 2,
   "id": "c8656bf9-1223-4c20-ae09-e1b23029642a",
   "metadata": {},
   "outputs": [
    {
     "name": "stdout",
     "output_type": "stream",
     "text": [
      "An exception occurred\n"
     ]
    }
   ],
   "source": [
    "try:\n",
    "    print(x)\n",
    "except:\n",
    "    print(\"An exception occurred\")"
   ]
  },
  {
   "cell_type": "code",
   "execution_count": 3,
   "id": "377d8404-d7c0-42ab-bf65-5f74167194e6",
   "metadata": {},
   "outputs": [
    {
     "name": "stdout",
     "output_type": "stream",
     "text": [
      "Hello\n",
      "Nothing went wrong\n"
     ]
    }
   ],
   "source": [
    "try:\n",
    "    print(\"Hello\")\n",
    "except:\n",
    "    print(\"Something went wrong\")\n",
    "else:\n",
    "    print(\"Nothing went wrong\")"
   ]
  },
  {
   "cell_type": "code",
   "execution_count": null,
   "id": "b2836345-73a5-42ab-bf60-1b5ce8cc625a",
   "metadata": {},
   "outputs": [],
   "source": [
    "-An else block will execute if there were no errors, and by not executing that code in the try block as shown in 2nd example, we can avoid catching \n",
    "an unexpected error.Its lets us execute if there is no error."
   ]
  },
  {
   "cell_type": "markdown",
   "id": "c0c1da98-94a2-44c2-96dc-106427a3007c",
   "metadata": {},
   "source": [
    "2. Can a try-except block be nested inside another try-except block? Explain with an example."
   ]
  },
  {
   "cell_type": "code",
   "execution_count": 6,
   "id": "8402f497-a26f-48cb-9b96-ebdd3f999d4e",
   "metadata": {},
   "outputs": [
    {
     "name": "stdin",
     "output_type": "stream",
     "text": [
      "Enter value of x:  10\n",
      "Enter value of y:  0\n"
     ]
    },
    {
     "name": "stdout",
     "output_type": "stream",
     "text": [
      "outer try block\n",
      "nested try block\n",
      "outer except block\n",
      "division by zero\n"
     ]
    }
   ],
   "source": [
    "x = int(input(\"Enter value of x: \"))\n",
    "y = int(input(\"Enter value of y: \"))\n",
    "\n",
    "try:\n",
    "    print(\"outer try block\")\n",
    "    try:\n",
    "        print(\"nested try block\")\n",
    "        print(x / y)\n",
    "    except TypeError as te:\n",
    "        print(\"nested except block\")\n",
    "        print(te)\n",
    "except ZeroDivisionError as ze:\n",
    "    print(\"outer except block\")\n",
    "    print(ze)"
   ]
  },
  {
   "cell_type": "code",
   "execution_count": null,
   "id": "6c1d9e54-1911-4d83-8b99-e383ed48a1bd",
   "metadata": {},
   "outputs": [],
   "source": [
    "-Yes,we can be nested try-except block inside another try-except block as shown in the example,it is a zero division error so x/y which is nested \n",
    "inside check for the zero division error and nested except dont have so it check for outer except block as it is present it print that block."
   ]
  },
  {
   "cell_type": "markdown",
   "id": "d8ac04dd-ec98-46f5-b8ee-5e7e4e53eeea",
   "metadata": {},
   "source": [
    "3. How can you create a custom exception class in Python? Provide an example that demonstrates its usage."
   ]
  },
  {
   "cell_type": "code",
   "execution_count": null,
   "id": "2e11867b-c13d-4301-980a-0a298b5d4cc7",
   "metadata": {},
   "outputs": [],
   "source": [
    "-In Python, we can define custom exceptions by creating a new class that is derived from the built-in Exception class."
   ]
  },
  {
   "cell_type": "code",
   "execution_count": 9,
   "id": "9e35d852-7345-4789-9ac9-e70d84666171",
   "metadata": {},
   "outputs": [
    {
     "name": "stdin",
     "output_type": "stream",
     "text": [
      "Enter a number:  17\n"
     ]
    },
    {
     "name": "stdout",
     "output_type": "stream",
     "text": [
      "Exception occurred: Invalid Age\n"
     ]
    }
   ],
   "source": [
    "# define Python user-defined exceptions\n",
    "class InvalidAgeException(Exception):\n",
    "    \"Raised when the input value is less than 18\"\n",
    "    pass\n",
    "\n",
    "number = 18\n",
    "try:\n",
    "    input_num = int(input(\"Enter a number: \"))\n",
    "    if input_num < number:\n",
    "        raise InvalidAgeException\n",
    "    else:\n",
    "        print(\"Eligible to Vote\")\n",
    "        \n",
    "except InvalidAgeException:\n",
    "    print(\"Exception occurred: Invalid Age\")"
   ]
  },
  {
   "cell_type": "code",
   "execution_count": null,
   "id": "34ab84fb-502f-4c6e-b6d3-050f7c30fce7",
   "metadata": {},
   "outputs": [],
   "source": [
    "-Here, CustomError is a user-defined error which inherits from the Exception class.When we are developing a large Python program, it is a good \n",
    "practice to place all the user-defined exceptions that our program raises in a separate file."
   ]
  },
  {
   "cell_type": "markdown",
   "id": "1feca8cd-8676-4bc1-b139-21ed17df0715",
   "metadata": {},
   "source": [
    "4. What are some common exceptions that are built-in to Python?"
   ]
  },
  {
   "cell_type": "code",
   "execution_count": null,
   "id": "87c0234f-a9ce-4ca1-b01e-a4ba8199150f",
   "metadata": {},
   "outputs": [],
   "source": [
    "ArithmeticError\t:Raised when an error occurs in numeric calculations\n",
    "AssertionError :Raised when an assert statement fails\n",
    "AttributeError :Raised when attribute reference or assignment fails\n",
    "Exception :Base class for all exceptions\n",
    "EOFError :Raised when the input() method hits an \"end of file\" condition (EOF)\n",
    "FloatingPointError :Raised when a floating point calculation fails\n",
    "ImportError :Raised when an imported module does not exist\n",
    "IndentationError :Raised when indentation is not correct\n",
    "IndexError :Raised when an index of a sequence does not exist\n",
    "KeyError :Raised when a key does not exist in a dictionary\n",
    "MemoryError :Raised when a program runs out of memory\n",
    "NameError :Raised when a variable does not exist\n",
    "OSError :Raised when a system related operation causes an error\n",
    "OverflowError :Raised when the result of a numeric calculation is too large\n",
    "RuntimeError: Raised when an error occurs that do not belong to any specific exceptions\n",
    "SyntaxError :Raised when a syntax error occurs\n",
    "TabError :Raised when indentation consists of tabs or spaces\n",
    "TypeError :Raised when two different types are combined\n",
    "UnboundLocalError :Raised when a local variable is referenced before assignment\n",
    "ValueError :Raised when there is a wrong value in a specified data type\n",
    "ZeroDivisionError :Raised when the second operator in a division is zero"
   ]
  },
  {
   "cell_type": "markdown",
   "id": "b46b121f-5fb6-46be-a2e8-1b9902ce3a9a",
   "metadata": {},
   "source": [
    "5. What is logging in Python, and why is it important in software development?"
   ]
  },
  {
   "cell_type": "code",
   "execution_count": null,
   "id": "e08b3cb2-381e-46c2-b200-2916c3f50b68",
   "metadata": {},
   "outputs": [],
   "source": [
    "-Logging is a Python module in the standard library that provides the facility to work with the framework for releasing log messages from the Python programs.\n",
    "-Logging is used to tracking events that occur when the software runs.\n",
    "-This module is widely used by the developers when they work to logging."
   ]
  },
  {
   "cell_type": "markdown",
   "id": "fc095ef2-b70d-4f1c-8497-238bec4eba49",
   "metadata": {},
   "source": [
    "6. Explain the purpose of log levels in Python logging and provide examples of when each log level would be appropriate."
   ]
  },
  {
   "cell_type": "code",
   "execution_count": null,
   "id": "bb71a8ad-f4af-4f27-84cb-0072c0ac3d24",
   "metadata": {},
   "outputs": [],
   "source": [
    "-A log level or log severity is a piece of information telling how important a given log message is. It is a simple, yet very powerful way of distinguishing log events from each other. If the log levels are used properly in your application all you need is to look at the severity first.\n",
    "\n",
    "Python has five log levels with each one assigned a specific integer indicating the severity of the log:\n",
    "\n",
    "DEBUG=10\n",
    "INFO=20\n",
    "WARN=30\n",
    "ERROR=40\n",
    "CRITICAL=50"
   ]
  },
  {
   "cell_type": "code",
   "execution_count": 10,
   "id": "e7b3f6e2-2db4-41f4-827c-f7ab7a7f8e08",
   "metadata": {},
   "outputs": [
    {
     "name": "stderr",
     "output_type": "stream",
     "text": [
      "DEBUG:root:This is debug message\n",
      "INFO:root:This is information message\n",
      "WARNING:root:This is warning message\n",
      "ERROR:root:This is error message\n",
      "CRITICAL:root:This is CRITICAL error message\n"
     ]
    }
   ],
   "source": [
    "import logging\n",
    "#-increasing order of severity\n",
    "#Debug\n",
    "#info\n",
    "#warning\n",
    "#error\n",
    "#critical error\n",
    "logging.basicConfig(level=logging.DEBUG)\n",
    "logging.debug(\"This is debug message\")#\n",
    "logging.info(\"This is information message\")\n",
    "logging.warning(\"This is warning message\")\n",
    "logging.error(\"This is error message\")#One or more functionalities are not working, preventing some functionalities from working correctly.\n",
    "logging.critical(\"This is CRITICAL error message\")"
   ]
  },
  {
   "cell_type": "code",
   "execution_count": null,
   "id": "91562761-0e58-4cf6-8217-25666ab0156e",
   "metadata": {},
   "outputs": [],
   "source": [
    "Debug : These are used to give Detailed information, typically of interest only when diagnosing problems.\n",
    "Info : These are used to confirm that things are working as expected\n",
    "Warning : These are used an indication that something unexpected happened, or is indicative of some problem in the near future\n",
    "Error : This tells that due to a more serious problem, the software has not been able to perform some function\n",
    "Critical : This tells serious error, indicating that the program itself may be unable to continue running"
   ]
  },
  {
   "cell_type": "code",
   "execution_count": 11,
   "id": "7d2d79da-bce5-4f79-be35-b4b3fde86c04",
   "metadata": {},
   "outputs": [
    {
     "name": "stderr",
     "output_type": "stream",
     "text": [
      "DEBUG:root:variables are 2 and 3\n"
     ]
    },
    {
     "data": {
      "text/plain": [
       "5"
      ]
     },
     "execution_count": 11,
     "metadata": {},
     "output_type": "execute_result"
    }
   ],
   "source": [
    "import logging\n",
    "logging.basicConfig(level=logging.DEBUG)\n",
    "\n",
    "def add(x,y):\n",
    "    logging.debug('variables are %s and %s',x,y)\n",
    "    return x+y\n",
    "add(2,3)"
   ]
  },
  {
   "cell_type": "code",
   "execution_count": 12,
   "id": "f035db5f-d0b8-48f4-b94e-52a8634f00c1",
   "metadata": {},
   "outputs": [
    {
     "name": "stderr",
     "output_type": "stream",
     "text": [
      "INFO:root:User name is Admin \n"
     ]
    }
   ],
   "source": [
    "import logging\n",
    "\n",
    "logging.basicConfig(level=logging.INFO)\n",
    "def login123(user):\n",
    "    logging.info('User name is %s ',user)\n",
    "login123(\"Admin\")"
   ]
  },
  {
   "cell_type": "code",
   "execution_count": 13,
   "id": "0972cafc-c7bf-4eb4-85b2-112525dd25db",
   "metadata": {},
   "outputs": [
    {
     "name": "stderr",
     "output_type": "stream",
     "text": [
      "WARNING:root:Sry you have low balance,your balance is 10000\n"
     ]
    }
   ],
   "source": [
    "import logging\n",
    "\n",
    "logging.basicConfig(level=logging.WARNING)\n",
    "def MyBalance(amount):\n",
    "    if amount < 40000:\n",
    "        logging.warning('Sry you have low balance,your balance is %s',amount)\n",
    "MyBalance(10000)"
   ]
  },
  {
   "cell_type": "code",
   "execution_count": 14,
   "id": "56b2bdb6-309e-4710-9f6a-5a01cecce6b7",
   "metadata": {},
   "outputs": [
    {
     "name": "stderr",
     "output_type": "stream",
     "text": [
      "ERROR:root:Division by Zero\n"
     ]
    }
   ],
   "source": [
    "import logging\n",
    "logging.basicConfig(level=logging.ERROR)\n",
    "\n",
    "def DivideByZero(n,d):\n",
    "    try:\n",
    "        result=n/d\n",
    "    except ZeroDivisionError:\n",
    "        logging.error(\"Division by Zero\")\n",
    "    else:\n",
    "        print(results)\n",
    "        \n",
    "DivideByZero(5,0)"
   ]
  },
  {
   "cell_type": "code",
   "execution_count": 15,
   "id": "719747bb-80e1-428d-9010-208ff9f3e8e8",
   "metadata": {},
   "outputs": [
    {
     "name": "stderr",
     "output_type": "stream",
     "text": [
      "CRITICAL:root:System failed to boot:You need to handle this issue\n"
     ]
    }
   ],
   "source": [
    "import logging\n",
    "\n",
    "logging.basicConfig(level=logging.CRITICAL)\n",
    "def LetUsCheckSystem(sys):\n",
    "    if sys!='OK':\n",
    "        logging.critical('System failed to boot:%s',sys)\n",
    "LetUsCheckSystem(\"You need to handle this issue\")"
   ]
  },
  {
   "cell_type": "markdown",
   "id": "c116effd-d8c3-4b89-95d9-be4b9e5f2fb9",
   "metadata": {},
   "source": [
    "7. What are log formatters in Python logging, and how can you customise the log message format using formatters?"
   ]
  },
  {
   "cell_type": "code",
   "execution_count": null,
   "id": "5e4abfec-09fb-41e1-bada-bea3f078e05a",
   "metadata": {},
   "outputs": [],
   "source": [
    "-Formatters specify the layout of log records in the final output.\n",
    "key maps to a dictionary of strings and dictionaries. The strings serve as formatter ids used to refer to formatters in the configuration\n",
    "(e.g., adding a formatter to a handler) while the mapped dictionaries serve as formatter configurations. \n",
    "-The string values of the datefmt and format keys in formatter configurations are used as the date and log entry formatting strings, respectively, \n",
    " to construct logging.Formatter instances.\n",
    "-The boolean value of the (optional) validate key controls the validation of the format strings during the construction of a formatter.\n",
    "handler.setFormatter(logging.Formatter('%(asctime)s:%(levelname)s:%(message)s'))\n",
    "-in above format we can customize message,date,level of logging"
   ]
  },
  {
   "cell_type": "code",
   "execution_count": null,
   "id": "4a23b0b8-6114-4211-8ea9-2a70d5af6408",
   "metadata": {
    "tags": []
   },
   "outputs": [],
   "source": [
    "# formatter definition\n",
    "'%(asctime)s - %(name)s - %(levelname)s - %(message)s'\n",
    "\n",
    "# example log output\n",
    "2022-09-25 14:10:55,922 - INFO - __main__ - Program Started"
   ]
  },
  {
   "cell_type": "markdown",
   "id": "2972794b-6716-40a1-80d9-9bbbc19e6e2e",
   "metadata": {},
   "source": [
    "8. How can you set up logging to capture log messages from multiple modules or classes in a Python application?"
   ]
  },
  {
   "cell_type": "code",
   "execution_count": null,
   "id": "6441e88c-083f-4dd5-8d9f-3d05758ca052",
   "metadata": {},
   "outputs": [],
   "source": [
    "import logging\n",
    "\n",
    "logger = logging.getLogger(__name__)"
   ]
  },
  {
   "cell_type": "code",
   "execution_count": 17,
   "id": "bf090ad7-5441-413a-b9a4-96bc1557434e",
   "metadata": {},
   "outputs": [
    {
     "name": "stderr",
     "output_type": "stream",
     "text": [
      "CRITICAL:root:System failed to boot:You need to handle this issue\n"
     ]
    }
   ],
   "source": [
    "import logging\n",
    "\n",
    "logging.basicConfig(level=logging.CRITICAL)\n",
    "def LetUsCheckSystem(sys):\n",
    "    if sys!='OK':\n",
    "        logging.critical('System failed to boot:%s',sys)\n",
    "LetUsCheckSystem(\"You need to handle this issue\")"
   ]
  },
  {
   "cell_type": "code",
   "execution_count": null,
   "id": "a9c6f081-5acc-4fff-9e6a-509ca46a8562",
   "metadata": {},
   "outputs": [],
   "source": [
    "-Python has a built-in module logging which allows writing status messages to a file or any other output streams. \n",
    "-The file can contain the information on which part of the code is executed and what problems have been arisen.\n",
    "-The call to basicConfig() should come before any calls to debug(), info(), etc. Otherwise, those functions will call basicConfig() for you with \n",
    " the default options"
   ]
  },
  {
   "cell_type": "markdown",
   "id": "00a174da-2b24-4b51-b27d-8b18146c1d90",
   "metadata": {},
   "source": [
    "9. What is the difference between the logging and print statements in Python? When should you use logging over print statements in a real-world application?"
   ]
  },
  {
   "cell_type": "code",
   "execution_count": null,
   "id": "4ebf6e3e-90cd-4778-8620-1a5533b8ba7e",
   "metadata": {},
   "outputs": [],
   "source": [
    "print():\n",
    "-The print() statement fails if your code does not have access to the console.\n",
    "-To define basic logging needs, several lines of code are needed.\n",
    "-Including additional logging information is not easy.\n",
    "-The print() statement only displays messages on the console.  Recording logging data inside a file or sending it over the internet needs \n",
    "additional works."
   ]
  },
  {
   "cell_type": "code",
   "execution_count": null,
   "id": "c28dc6bc-ef9d-4ec0-bc50-8accecceb593",
   "metadata": {},
   "outputs": [],
   "source": [
    "logging():\n",
    "-Logging is a popular solution for tracking events in a code or debugging. Many of us (Python programmers and data scientists) have this bad habit \n",
    "of using print() to debug and track events in our codes.\n",
    "-With the use of Loggers, we can customize what information is to be printed along with the actual message. \n",
    "-The information that we can print includes the package name, log level, line number, timestamp, method name, etc."
   ]
  },
  {
   "cell_type": "markdown",
   "id": "120ac8f0-9d48-428d-aadc-5e4038db4900",
   "metadata": {},
   "source": [
    "10. Write a Python program that logs a message to a file named \"app.log\" with the following requirements:\n",
    "● The log message should be \"Hello, World!\"\n",
    "● The log level should be set to \"INFO.\""
   ]
  },
  {
   "cell_type": "code",
   "execution_count": 24,
   "id": "11248c1e-c70c-4d66-a669-d0f3610a9850",
   "metadata": {},
   "outputs": [
    {
     "name": "stderr",
     "output_type": "stream",
     "text": [
      "INFO:root: Hello, World!\n"
     ]
    }
   ],
   "source": [
    "import os\n",
    "import logging\n",
    "dir_path=r'C:\\Users\\hp\\Desktop'\n",
    "log_file='app.log'\n",
    "full_path=os.path.join(dir_path,log_file)\n",
    "os.makedirs(dir_path,exist_ok=True)\n",
    "logger=logging.getLogger()\n",
    "logger.setLevel(logging.INFO)\n",
    "\n",
    "#Filehandler\n",
    "\n",
    "handler=logging.FileHandler(full_path)\n",
    "\n",
    "handler.setFormatter(logging.Formatter('%(levelname)s:%(message)s'))\n",
    "logger.addHandler(handler)\n",
    "def LetUsCheckSystem(sys):\n",
    "    if sys != 'OK':\n",
    "        logging.info(' %s',sys)\n",
    "LetUsCheckSystem(\"Hello, World!\")\n",
    "handler.close()"
   ]
  },
  {
   "cell_type": "markdown",
   "id": "99226a62-3cb9-42a7-8112-9826b4c554b0",
   "metadata": {},
   "source": [
    "11. Create a Python program that logs an error message to the console and a file named \"errors.log\" if an exception occurs during the program's execution. The error message should include the exception type and a timestamp."
   ]
  },
  {
   "cell_type": "code",
   "execution_count": 25,
   "id": "2fdd50f4-f209-417d-81fb-29cac4e82a71",
   "metadata": {},
   "outputs": [
    {
     "name": "stderr",
     "output_type": "stream",
     "text": [
      "ERROR:root:ZeroDivisionError\n"
     ]
    }
   ],
   "source": [
    "import os\n",
    "import logging\n",
    "dir_path=r'C:\\Users\\hp\\Desktop'\n",
    "log_file='errors.log'\n",
    "full_path=os.path.join(dir_path,log_file)\n",
    "os.makedirs(dir_path,exist_ok=True)\n",
    "logger=logging.getLogger()\n",
    "logger.setLevel(logging.ERROR)\n",
    "\n",
    "#Filehandler\n",
    "\n",
    "handler=logging.FileHandler(full_path)\n",
    "\n",
    "handler.setFormatter(logging.Formatter('%(asctime)s:%(levelname)s:%(message)s'))\n",
    "logger.addHandler(handler)\n",
    "def DivideByZero(n,d):\n",
    "    try:\n",
    "        result=n/d\n",
    "    except ZeroDivisionError:\n",
    "        logging.error(\"ZeroDivisionError\")\n",
    "    else:\n",
    "        print(results)\n",
    "        \n",
    "DivideByZero(5,0)\n",
    "handler.close()"
   ]
  },
  {
   "cell_type": "code",
   "execution_count": null,
   "id": "1e0c6892-2af6-48a8-a4ed-497eae53ef01",
   "metadata": {},
   "outputs": [],
   "source": []
  },
  {
   "cell_type": "code",
   "execution_count": null,
   "id": "ab10a1c6-ec55-4e60-88d3-faf48372a733",
   "metadata": {},
   "outputs": [],
   "source": []
  },
  {
   "cell_type": "code",
   "execution_count": null,
   "id": "feed0d27-9f8f-4b37-8589-e84992b783bf",
   "metadata": {},
   "outputs": [],
   "source": []
  },
  {
   "cell_type": "code",
   "execution_count": null,
   "id": "0a850764-3c8c-4582-9dd2-b7143225b6cd",
   "metadata": {},
   "outputs": [],
   "source": []
  },
  {
   "cell_type": "code",
   "execution_count": null,
   "id": "851d3297-4500-4506-936d-60ab8060632c",
   "metadata": {},
   "outputs": [],
   "source": []
  }
 ],
 "metadata": {
  "kernelspec": {
   "display_name": "Python 3 (ipykernel)",
   "language": "python",
   "name": "python3"
  },
  "language_info": {
   "codemirror_mode": {
    "name": "ipython",
    "version": 3
   },
   "file_extension": ".py",
   "mimetype": "text/x-python",
   "name": "python",
   "nbconvert_exporter": "python",
   "pygments_lexer": "ipython3",
   "version": "3.10.6"
  }
 },
 "nbformat": 4,
 "nbformat_minor": 5
}
