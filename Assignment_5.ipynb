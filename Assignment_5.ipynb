{
 "cells": [
  {
   "cell_type": "code",
   "execution_count": null,
   "id": "e63c08fc-0d17-430e-9580-38681a9a7dae",
   "metadata": {},
   "outputs": [],
   "source": [
    "#1. What does an empty dictionary's code look like?"
   ]
  },
  {
   "cell_type": "code",
   "execution_count": null,
   "id": "424d19e4-bf86-4d47-a492-b7af05b00301",
   "metadata": {},
   "outputs": [],
   "source": [
    "'{}'It denotes an empty dictionary"
   ]
  },
  {
   "cell_type": "code",
   "execution_count": 1,
   "id": "2df642f9-f7c5-4a7f-812a-33e905bed054",
   "metadata": {},
   "outputs": [
    {
     "data": {
      "text/plain": [
       "dict"
      ]
     },
     "execution_count": 1,
     "metadata": {},
     "output_type": "execute_result"
    }
   ],
   "source": [
    "s={}\n",
    "type(s)"
   ]
  },
  {
   "cell_type": "code",
   "execution_count": 2,
   "id": "527b4faf-f65a-4ddf-a11e-d602e9e593dd",
   "metadata": {},
   "outputs": [],
   "source": [
    "#2. What is the value of a dictionary value with the key 'foo' and the value 42?"
   ]
  },
  {
   "cell_type": "code",
   "execution_count": 7,
   "id": "3bff34b5-0545-4dba-b5ab-d4f47460ac77",
   "metadata": {},
   "outputs": [
    {
     "data": {
      "text/plain": [
       "{'foo': 42}"
      ]
     },
     "execution_count": 7,
     "metadata": {},
     "output_type": "execute_result"
    }
   ],
   "source": [
    "s1={\"foo\":42}\n",
    "s1"
   ]
  },
  {
   "cell_type": "code",
   "execution_count": 6,
   "id": "64bdd9f0-0062-492e-9122-3340295c71dd",
   "metadata": {},
   "outputs": [
    {
     "data": {
      "text/plain": [
       "42"
      ]
     },
     "execution_count": 6,
     "metadata": {},
     "output_type": "execute_result"
    }
   ],
   "source": [
    "s1[\"foo\"]"
   ]
  },
  {
   "cell_type": "code",
   "execution_count": 8,
   "id": "3f82e190-105a-409b-99f1-f1117b303e00",
   "metadata": {},
   "outputs": [],
   "source": [
    "#3. What is the most significant distinction between a dictionary and a list?"
   ]
  },
  {
   "cell_type": "code",
   "execution_count": null,
   "id": "14aa61a6-da27-4a7b-9b34-dc262ec03f36",
   "metadata": {},
   "outputs": [],
   "source": [
    "-Lists are ordered and sequential which can store by indexes\n",
    "-dictionaries are unordered with key and value pairs which can store large amount of data and can access easily"
   ]
  },
  {
   "cell_type": "code",
   "execution_count": 9,
   "id": "7e0433a0-0f19-434f-929d-5cc818747cc7",
   "metadata": {},
   "outputs": [],
   "source": [
    "#4. What happens if you try to access spam['foo'] if spam is {'bar': 100}?"
   ]
  },
  {
   "cell_type": "code",
   "execution_count": 10,
   "id": "6be0f291-9b7a-44b7-b705-66147f2658c9",
   "metadata": {},
   "outputs": [
    {
     "ename": "KeyError",
     "evalue": "'foo'",
     "output_type": "error",
     "traceback": [
      "\u001b[0;31m---------------------------------------------------------------------------\u001b[0m",
      "\u001b[0;31mKeyError\u001b[0m                                  Traceback (most recent call last)",
      "Cell \u001b[0;32mIn [10], line 2\u001b[0m\n\u001b[1;32m      1\u001b[0m spam\u001b[38;5;241m=\u001b[39m{\u001b[38;5;124m'\u001b[39m\u001b[38;5;124mbar\u001b[39m\u001b[38;5;124m'\u001b[39m:\u001b[38;5;241m100\u001b[39m}\n\u001b[0;32m----> 2\u001b[0m \u001b[43mspam\u001b[49m\u001b[43m[\u001b[49m\u001b[38;5;124;43m'\u001b[39;49m\u001b[38;5;124;43mfoo\u001b[39;49m\u001b[38;5;124;43m'\u001b[39;49m\u001b[43m]\u001b[49m\n",
      "\u001b[0;31mKeyError\u001b[0m: 'foo'"
     ]
    }
   ],
   "source": [
    "spam={'bar':100}\n",
    "spam['foo']# key error as key 'foo' not in spam"
   ]
  },
  {
   "cell_type": "code",
   "execution_count": 11,
   "id": "b40ee960-4478-4817-a723-928d50f2c69f",
   "metadata": {},
   "outputs": [],
   "source": [
    "#5. If a dictionary is stored in spam, what is the difference between the expressions 'cat' in spam and 'cat' in spam.keys()?"
   ]
  },
  {
   "cell_type": "code",
   "execution_count": 12,
   "id": "3bd5cb33-50e0-403c-a41b-12f1916ab2b6",
   "metadata": {},
   "outputs": [],
   "source": [
    "#Both are same as cat is a key value which present in spam\n",
    "spam={'cat':'Tom'}"
   ]
  },
  {
   "cell_type": "code",
   "execution_count": 13,
   "id": "71bc5105-4c6c-40c6-8312-53c3fdfd5063",
   "metadata": {},
   "outputs": [
    {
     "data": {
      "text/plain": [
       "True"
      ]
     },
     "execution_count": 13,
     "metadata": {},
     "output_type": "execute_result"
    }
   ],
   "source": [
    "'cat' in spam"
   ]
  },
  {
   "cell_type": "code",
   "execution_count": 14,
   "id": "d8389494-c448-4d01-a9c3-1669959c5a7e",
   "metadata": {},
   "outputs": [
    {
     "data": {
      "text/plain": [
       "True"
      ]
     },
     "execution_count": 14,
     "metadata": {},
     "output_type": "execute_result"
    }
   ],
   "source": [
    "'cat' in spam.keys()"
   ]
  },
  {
   "cell_type": "code",
   "execution_count": 15,
   "id": "cb2bc462-c28d-4969-9c52-970a22736de3",
   "metadata": {},
   "outputs": [],
   "source": [
    "#6. If a dictionary is stored in spam, what is the difference between the expressions 'cat' in spam and 'cat' in spam.values()?"
   ]
  },
  {
   "cell_type": "code",
   "execution_count": 16,
   "id": "ff515420-c97f-4efe-9c41-bfe931e73efc",
   "metadata": {},
   "outputs": [],
   "source": [
    "spam={'cat':'Tom'}"
   ]
  },
  {
   "cell_type": "code",
   "execution_count": 17,
   "id": "9480e505-2275-4e30-bb2c-e5042a892824",
   "metadata": {},
   "outputs": [
    {
     "data": {
      "text/plain": [
       "True"
      ]
     },
     "execution_count": 17,
     "metadata": {},
     "output_type": "execute_result"
    }
   ],
   "source": [
    "'cat' in spam #cat is present in spam"
   ]
  },
  {
   "cell_type": "code",
   "execution_count": 18,
   "id": "b22c680e-a974-4e48-9f17-a70255cdc56e",
   "metadata": {},
   "outputs": [
    {
     "data": {
      "text/plain": [
       "False"
      ]
     },
     "execution_count": 18,
     "metadata": {},
     "output_type": "execute_result"
    }
   ],
   "source": [
    "'cat' in spam.values()#here cat is a key not value so printing false"
   ]
  },
  {
   "cell_type": "code",
   "execution_count": null,
   "id": "1b653781-f046-4998-b2f3-2bf91c1ed82f",
   "metadata": {},
   "outputs": [],
   "source": [
    "\"\"\"7. What is a shortcut for the following code?\n",
    "if 'color' not in spam:\n",
    "spam['color'] = 'black'\"\"\""
   ]
  },
  {
   "cell_type": "code",
   "execution_count": 20,
   "id": "001aeb53-03de-4bbf-aa00-c0d35956698d",
   "metadata": {},
   "outputs": [],
   "source": [
    "if 'color' not in spam:\n",
    "    spam['color'] = 'black'"
   ]
  },
  {
   "cell_type": "code",
   "execution_count": 24,
   "id": "53903898-8a4c-40c9-ba24-dd1b4f1b321a",
   "metadata": {},
   "outputs": [
    {
     "data": {
      "text/plain": [
       "'black'"
      ]
     },
     "execution_count": 24,
     "metadata": {},
     "output_type": "execute_result"
    }
   ],
   "source": [
    "spam={'color':'black'}\n",
    "spam['color']"
   ]
  },
  {
   "cell_type": "code",
   "execution_count": 28,
   "id": "fc4cca66-51d4-4f36-939b-aa0510be3030",
   "metadata": {},
   "outputs": [
    {
     "name": "stdout",
     "output_type": "stream",
     "text": [
      "black\n"
     ]
    }
   ],
   "source": [
    "if 'color' in spam:\n",
    "    print(spam['color'])"
   ]
  },
  {
   "cell_type": "code",
   "execution_count": 29,
   "id": "87f66d41-8049-4936-ae23-544047d3dd5c",
   "metadata": {},
   "outputs": [],
   "source": [
    "#8. How do you \"prettyprint\" dictionary values using which module and function?"
   ]
  },
  {
   "cell_type": "code",
   "execution_count": null,
   "id": "366a32c4-08bd-43a8-89d9-5bae0a6ff6bc",
   "metadata": {},
   "outputs": [],
   "source": [
    "->We can prettyprint dictionary of python by importing 'pprint'module in python,it helpsto present data structures in a much more presentable form.\n",
    "#We first import the pprint module as shown below.\n",
    "import pprint\n",
    "#sntax for pretty print dict python\n",
    "pprint.pprint(any_dictionary)\n",
    "->pprint() is a function of pprint module in python helps to pretty print dict of python datatypes in more readable and presentable manner."
   ]
  }
 ],
 "metadata": {
  "kernelspec": {
   "display_name": "Python 3 (ipykernel)",
   "language": "python",
   "name": "python3"
  },
  "language_info": {
   "codemirror_mode": {
    "name": "ipython",
    "version": 3
   },
   "file_extension": ".py",
   "mimetype": "text/x-python",
   "name": "python",
   "nbconvert_exporter": "python",
   "pygments_lexer": "ipython3",
   "version": "3.10.6"
  }
 },
 "nbformat": 4,
 "nbformat_minor": 5
}
