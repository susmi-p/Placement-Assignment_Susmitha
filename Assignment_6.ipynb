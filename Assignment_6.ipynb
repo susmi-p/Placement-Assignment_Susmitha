{
 "cells": [
  {
   "cell_type": "code",
   "execution_count": 1,
   "id": "e3807ec5-26c9-43e5-8c70-f0bbafe87c42",
   "metadata": {},
   "outputs": [],
   "source": [
    "#Q.1. What are keywords in python? Using the keyword library, print all the python keywords."
   ]
  },
  {
   "cell_type": "code",
   "execution_count": null,
   "id": "a8e9bd17-ec71-4bbd-a5fb-8411d6522ad1",
   "metadata": {},
   "outputs": [],
   "source": [
    "Some of the Python Keywords are:\n",
    "Value Keywords: True, False, None\n",
    "Operator Keywords: and, or, not, in, is\n",
    "Control Flow Keywords: if, elif, else\n",
    "Iteration Keywords: for, while, break, continue, else\n",
    "Structure Keywords: def, class, with, as, pass, lambda\n",
    "Returning Keywords: return, yield\n",
    "Import Keywords: import, from, as\n",
    "Exception-Handling Keywords: try, except, raise, finally, else, assert\n",
    "Asynchronous Programming Keywords: async, await\n",
    "Variable Handling Keywords: del, global, nonlocal"
   ]
  },
  {
   "cell_type": "code",
   "execution_count": 3,
   "id": "0c04201a-86de-4533-b759-c59dd8aef653",
   "metadata": {},
   "outputs": [
    {
     "name": "stdout",
     "output_type": "stream",
     "text": [
      "['False', 'None', 'True', 'and', 'as', 'assert', 'async', 'await', 'break', 'class', 'continue', 'def', 'del', 'elif', 'else', 'except', 'finally', 'for', 'from', 'global', 'if', 'import', 'in', 'is', 'lambda', 'nonlocal', 'not', 'or', 'pass', 'raise', 'return', 'try', 'while', 'with', 'yield']\n"
     ]
    },
    {
     "data": {
      "text/plain": [
       "35"
      ]
     },
     "execution_count": 3,
     "metadata": {},
     "output_type": "execute_result"
    }
   ],
   "source": [
    "import keyword\n",
    "print(keyword.kwlist)\n",
    "len(keyword.kwlist)"
   ]
  },
  {
   "cell_type": "code",
   "execution_count": 4,
   "id": "4cd2d1c4-7ec6-4fce-b59c-71cddf445384",
   "metadata": {},
   "outputs": [],
   "source": [
    "#Q.2. What are the rules to create variables in python?"
   ]
  },
  {
   "cell_type": "code",
   "execution_count": null,
   "id": "da2f886e-4b3e-49be-a391-11c73229e5f8",
   "metadata": {},
   "outputs": [],
   "source": [
    "-A variable first letter should start with letter or a underscore\n",
    "-A variable name must not start with number\n",
    "-Variable names are case-sensitive\n",
    "-the variable name can be only alpha-numeic characters and underscore"
   ]
  },
  {
   "cell_type": "code",
   "execution_count": null,
   "id": "762f80e3-22ea-4a14-890f-be7b669a5ab4",
   "metadata": {},
   "outputs": [],
   "source": [
    "#Q.3. What are the standards and conventions followed for the nomenclature of variables in python to improve code readability and maintainability?"
   ]
  },
  {
   "cell_type": "code",
   "execution_count": null,
   "id": "94e32b89-1bdd-4b91-be8b-771f965aed63",
   "metadata": {},
   "outputs": [],
   "source": [
    "-Variable name should be in camelCase for more than 2 words and need to be meaningful for the data\n",
    "-The variable name can be joined by underscore\n",
    "-Numbers or digits can be used in variable but not first word of the variable.\n",
    "-Use only lowercase in method names\n",
    "-Non-publicmethod should begin with single underscore\n",
    "-for method name use 2 underscore to begin"
   ]
  },
  {
   "cell_type": "code",
   "execution_count": 5,
   "id": "32541924-17b1-4bde-8bd2-e6367e6dac95",
   "metadata": {},
   "outputs": [],
   "source": [
    "#Q.4. What will happen if a keyword is used as a variable name?"
   ]
  },
  {
   "cell_type": "code",
   "execution_count": null,
   "id": "968b9921-f09c-4b97-8539-d77c3f6e987b",
   "metadata": {},
   "outputs": [],
   "source": [
    "-Keywords are the words whose meaning has already been explained to compiler.They have a specific meaning and they implement specific features.\n",
    "-They can be only use for intended purpose but not as variable names or any user-defined program elements.\n",
    "-True,False,None can be used lower case and can define as variable name as python is case Sensitive."
   ]
  },
  {
   "cell_type": "code",
   "execution_count": 6,
   "id": "9b12cfe9-8238-4d04-be01-8d7fd58fa1e5",
   "metadata": {},
   "outputs": [],
   "source": [
    "#Q.5. For what purpose def keyword is used?"
   ]
  },
  {
   "cell_type": "code",
   "execution_count": null,
   "id": "8287a59c-71f7-4735-ad0a-f4950b0b784b",
   "metadata": {},
   "outputs": [],
   "source": [
    "-def is the keyword used for defining a function ,which is followed by a parameters in brackets().\n",
    "-At the end ':' need to be give and indentation will be marked for later code.\n",
    "-the 'return' statement returnes a value."
   ]
  },
  {
   "cell_type": "code",
   "execution_count": 7,
   "id": "cb06b0ba-e9d0-4268-abac-8a4f45581eec",
   "metadata": {},
   "outputs": [],
   "source": [
    "#Q.6. What is the operation of this special character ‘\\’?"
   ]
  },
  {
   "cell_type": "code",
   "execution_count": null,
   "id": "3907d7eb-e0f0-49e3-8c8b-cd616506336e",
   "metadata": {},
   "outputs": [],
   "source": [
    "-In python the backslash ( \\ ) is a special character,also called the \"escape\"character.It is used in representing certain whitespace characters."
   ]
  },
  {
   "cell_type": "code",
   "execution_count": 8,
   "id": "a9116fb7-ddee-4d6c-8c6f-3b6853bd996c",
   "metadata": {},
   "outputs": [],
   "source": [
    "#Q.7. Give an example of the following conditions:\n",
    "#(i) Homogeneous list\n",
    "#(ii) Heterogeneous set\n",
    "#(iii) Homogeneous tuple"
   ]
  },
  {
   "cell_type": "code",
   "execution_count": 11,
   "id": "b69dd87f-3f8d-44bf-b11b-07ac6ee6baad",
   "metadata": {},
   "outputs": [
    {
     "data": {
      "text/plain": [
       "[1, 2, 3, 4, 5]"
      ]
     },
     "execution_count": 11,
     "metadata": {},
     "output_type": "execute_result"
    }
   ],
   "source": [
    "l=[1,2,3,4,5]\n",
    "l#all are numeric which are same so it is a homogeneous list"
   ]
  },
  {
   "cell_type": "code",
   "execution_count": 12,
   "id": "32f478dd-fc9a-4fd8-b943-bffdc60775a1",
   "metadata": {},
   "outputs": [
    {
     "data": {
      "text/plain": [
       "[1, 2, 3, 4, 'sus', {1: 'ram', 2: 'sita'}, (1, 2, 3, 4)]"
      ]
     },
     "execution_count": 12,
     "metadata": {},
     "output_type": "execute_result"
    }
   ],
   "source": [
    "l1=[1,2,3,4,\"sus\",{1:\"ram\",2:\"sita\"},(1,2,3,4)]\n",
    "l1#here there are different datatypes and values numbers,string,lists,tuple and dictionaries so it is heterogeneous list."
   ]
  },
  {
   "cell_type": "code",
   "execution_count": 14,
   "id": "f67b531d-f5fd-478f-aad3-783b534892d8",
   "metadata": {},
   "outputs": [
    {
     "data": {
      "text/plain": [
       "('a', 'b', 'c', 'd')"
      ]
     },
     "execution_count": 14,
     "metadata": {},
     "output_type": "execute_result"
    }
   ],
   "source": [
    "t=('a','b','c','d')\n",
    "t#it is a homogeneous tuple as it contains all the data as chars"
   ]
  },
  {
   "cell_type": "code",
   "execution_count": 15,
   "id": "798159bc-d16f-4d3c-b7d9-eb289b0b3fec",
   "metadata": {},
   "outputs": [],
   "source": [
    "#Q.8. Explain the mutable and immutable data types with proper explanation & examples."
   ]
  },
  {
   "cell_type": "code",
   "execution_count": null,
   "id": "368c47f7-9738-4709-b8c5-9019ed7ab630",
   "metadata": {},
   "outputs": [],
   "source": [
    "-Mutable-A mutable object can be changed after it is created at any time in code.\n",
    "-Ex:List,Set,Dictionaries\n",
    "-Immutable objects cannot be changed after it is created.\n",
    "Ex:tuple,int,float,bool"
   ]
  },
  {
   "cell_type": "code",
   "execution_count": 16,
   "id": "24419953-398e-46df-8705-8b912bd3d796",
   "metadata": {},
   "outputs": [
    {
     "data": {
      "text/plain": [
       "[1, 2, 3, 4, 5]"
      ]
     },
     "execution_count": 16,
     "metadata": {},
     "output_type": "execute_result"
    }
   ],
   "source": [
    "l"
   ]
  },
  {
   "cell_type": "code",
   "execution_count": 18,
   "id": "4f886a93-b51a-410f-9cda-446acfc05df9",
   "metadata": {},
   "outputs": [
    {
     "data": {
      "text/plain": [
       "[1, 5, 3, 4, 5]"
      ]
     },
     "execution_count": 18,
     "metadata": {},
     "output_type": "execute_result"
    }
   ],
   "source": [
    "l[1]=5\n",
    "l#here value of index 1 changes as list is mutable"
   ]
  },
  {
   "cell_type": "code",
   "execution_count": 19,
   "id": "23551eb6-7e81-48a5-9cea-0654ab136514",
   "metadata": {},
   "outputs": [
    {
     "data": {
      "text/plain": [
       "('a', 'b', 'c', 'd')"
      ]
     },
     "execution_count": 19,
     "metadata": {},
     "output_type": "execute_result"
    }
   ],
   "source": [
    "t"
   ]
  },
  {
   "cell_type": "code",
   "execution_count": 21,
   "id": "9ffcf0ba-3c92-4a6f-8c04-80b0b913a70a",
   "metadata": {},
   "outputs": [
    {
     "ename": "TypeError",
     "evalue": "'tuple' object does not support item assignment",
     "output_type": "error",
     "traceback": [
      "\u001b[0;31m---------------------------------------------------------------------------\u001b[0m",
      "\u001b[0;31mTypeError\u001b[0m                                 Traceback (most recent call last)",
      "Cell \u001b[0;32mIn [21], line 1\u001b[0m\n\u001b[0;32m----> 1\u001b[0m \u001b[43mt\u001b[49m\u001b[43m[\u001b[49m\u001b[38;5;241;43m2\u001b[39;49m\u001b[43m]\u001b[49m\u001b[38;5;241m=\u001b[39m\u001b[38;5;124m'\u001b[39m\u001b[38;5;124mv\u001b[39m\u001b[38;5;124m'\u001b[39m\n\u001b[1;32m      2\u001b[0m t\n",
      "\u001b[0;31mTypeError\u001b[0m: 'tuple' object does not support item assignment"
     ]
    }
   ],
   "source": [
    "t[2]='v'\n",
    "t#here we canot change as tuple is immutable "
   ]
  },
  {
   "cell_type": "code",
   "execution_count": null,
   "id": "3dc73411-b082-45ad-be2a-e88d9b80326b",
   "metadata": {},
   "outputs": [],
   "source": [
    "#Q.9. Write a code to create the given structure using only for loop.\n",
    "\"\"\"\n",
    "     *\n",
    "    ***\n",
    "   *****\n",
    "  *******\n",
    " *********\n",
    "\"\"\""
   ]
  },
  {
   "cell_type": "code",
   "execution_count": 27,
   "id": "67539cd7-fd9e-47d1-b4ef-f80fa429d9c0",
   "metadata": {},
   "outputs": [
    {
     "name": "stdout",
     "output_type": "stream",
     "text": [
      "        * \n",
      "      * * * \n",
      "    * * * * * \n",
      "  * * * * * * * \n",
      "* * * * * * * * * \n"
     ]
    }
   ],
   "source": [
    "n=5\n",
    "for i in range(n):\n",
    "    for j in range(n-i-1):\n",
    "        print(\" \",end=\" \")\n",
    "    for j in range(2*i+1):\n",
    "        print(\"*\",end=\" \")\n",
    "    print()"
   ]
  },
  {
   "cell_type": "code",
   "execution_count": null,
   "id": "d7f9d5a0-2186-4062-9973-c7c413e6415e",
   "metadata": {},
   "outputs": [],
   "source": [
    "#Q.10. Write a code to create the given structure using while loop.\n",
    "\"\"\"\n",
    "|||||||||\n",
    " |||||||\n",
    "  |||||\n",
    "   |||\n",
    "    |\n",
    "    \"\"\""
   ]
  },
  {
   "cell_type": "code",
   "execution_count": 48,
   "id": "39d1edea-7938-45fa-a0de-34443678dada",
   "metadata": {},
   "outputs": [
    {
     "name": "stdout",
     "output_type": "stream",
     "text": [
      "| | | | | | | | | \n",
      "  | | | | | | | \n",
      "    | | | | | \n",
      "      | | | \n",
      "        | \n"
     ]
    }
   ],
   "source": [
    "n=5\n",
    "a=9\n",
    "for i in range(n):\n",
    "    for j in range(i):\n",
    "        print(\" \",end=\" \")\n",
    "    for j in range(a-2*i):\n",
    "        print(\"|\",end=\" \")\n",
    "    print()"
   ]
  },
  {
   "cell_type": "code",
   "execution_count": null,
   "id": "91f778b8-243f-4091-8a08-50c0c504a562",
   "metadata": {},
   "outputs": [],
   "source": []
  },
  {
   "cell_type": "code",
   "execution_count": null,
   "id": "22709004-af9a-4583-9aae-2465dc37b0e4",
   "metadata": {},
   "outputs": [],
   "source": []
  }
 ],
 "metadata": {
  "kernelspec": {
   "display_name": "Python 3 (ipykernel)",
   "language": "python",
   "name": "python3"
  },
  "language_info": {
   "codemirror_mode": {
    "name": "ipython",
    "version": 3
   },
   "file_extension": ".py",
   "mimetype": "text/x-python",
   "name": "python",
   "nbconvert_exporter": "python",
   "pygments_lexer": "ipython3",
   "version": "3.10.6"
  }
 },
 "nbformat": 4,
 "nbformat_minor": 5
}
