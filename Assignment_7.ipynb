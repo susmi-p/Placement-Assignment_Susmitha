{
 "cells": [
  {
   "cell_type": "code",
   "execution_count": null,
   "id": "0059dd23-4e96-4858-9125-ba05c848dac6",
   "metadata": {},
   "outputs": [],
   "source": [
    "\"\"\"\n",
    "Q.1. Create two int type variables, apply addition, subtraction, division and multiplications\n",
    "and store the results in variables. Then print the data in the following format by calling the\n",
    "variables:\n",
    "First variable is __ & second variable is __.\n",
    "Addition: __ + __ = __\n",
    "Subtraction: __ - __ = __\n",
    "Multiplication: __ * __ = __\n",
    "Division: __ / __ = __\n",
    "\"\"\""
   ]
  },
  {
   "cell_type": "code",
   "execution_count": 2,
   "id": "c587ce19-c980-44b8-b32a-89a7eb191dbe",
   "metadata": {},
   "outputs": [],
   "source": [
    "Tom=100\n",
    "Cat=40"
   ]
  },
  {
   "cell_type": "code",
   "execution_count": 3,
   "id": "e9cc7cdd-63bd-43fe-ae18-4b3f663c7df4",
   "metadata": {},
   "outputs": [
    {
     "name": "stdout",
     "output_type": "stream",
     "text": [
      "100\n"
     ]
    }
   ],
   "source": [
    "print(Tom)"
   ]
  },
  {
   "cell_type": "code",
   "execution_count": 4,
   "id": "abb70ee9-270e-45cf-a60e-e176642a797e",
   "metadata": {},
   "outputs": [
    {
     "name": "stdout",
     "output_type": "stream",
     "text": [
      "40\n"
     ]
    }
   ],
   "source": [
    "print(Cat)"
   ]
  },
  {
   "cell_type": "code",
   "execution_count": 5,
   "id": "fdb529f8-7c21-49be-82c9-9d38d4de50a6",
   "metadata": {},
   "outputs": [
    {
     "name": "stdout",
     "output_type": "stream",
     "text": [
      "140\n"
     ]
    }
   ],
   "source": [
    "print(Tom+Cat)"
   ]
  },
  {
   "cell_type": "code",
   "execution_count": 6,
   "id": "fbdae715-e1a4-4e70-a460-5acd7aa5b135",
   "metadata": {},
   "outputs": [
    {
     "name": "stdout",
     "output_type": "stream",
     "text": [
      "60\n"
     ]
    }
   ],
   "source": [
    "print(Tom-Cat)"
   ]
  },
  {
   "cell_type": "code",
   "execution_count": 7,
   "id": "44ee320e-ff4a-41f8-9620-b3753a37e62f",
   "metadata": {},
   "outputs": [
    {
     "name": "stdout",
     "output_type": "stream",
     "text": [
      "4000\n"
     ]
    }
   ],
   "source": [
    "print(Tom*Cat)"
   ]
  },
  {
   "cell_type": "code",
   "execution_count": 8,
   "id": "2a3ad2cb-9dbd-4ceb-9ba2-58fe742f1898",
   "metadata": {},
   "outputs": [
    {
     "name": "stdout",
     "output_type": "stream",
     "text": [
      "2.5\n"
     ]
    }
   ],
   "source": [
    "print(Tom/Cat)"
   ]
  },
  {
   "cell_type": "code",
   "execution_count": null,
   "id": "2aa51fcc-09a3-4a91-9bd6-acbd6e69a8b3",
   "metadata": {},
   "outputs": [],
   "source": [
    "\"\"\"\n",
    "Q.2. What is the difference between the following operators:\n",
    "(i) ‘/’ & ‘//’\n",
    "(ii) ‘**’ & ‘^’\n",
    "\"\"\""
   ]
  },
  {
   "cell_type": "code",
   "execution_count": 9,
   "id": "ffb7c9f4-8698-4c87-9ed4-e9330f8e32c4",
   "metadata": {},
   "outputs": [
    {
     "name": "stdout",
     "output_type": "stream",
     "text": [
      "3\n"
     ]
    }
   ],
   "source": [
    "a=10\n",
    "b=3\n",
    "print(a//b)#'//'integer division where quotient rounded off to nearest wholenumber."
   ]
  },
  {
   "cell_type": "code",
   "execution_count": 10,
   "id": "d91c0e0f-a901-42f4-82ff-1bb6de4121a4",
   "metadata": {},
   "outputs": [
    {
     "name": "stdout",
     "output_type": "stream",
     "text": [
      "3.3333333333333335\n"
     ]
    }
   ],
   "source": [
    "print(a/b)"
   ]
  },
  {
   "cell_type": "code",
   "execution_count": 12,
   "id": "7a202526-0d94-42c2-9215-119f9dd740cc",
   "metadata": {},
   "outputs": [
    {
     "name": "stdout",
     "output_type": "stream",
     "text": [
      "-4.0\n"
     ]
    }
   ],
   "source": [
    "a=-10.0\n",
    "b=3\n",
    "print(a//b)#'//'for negative integers it roundoff to larger side"
   ]
  },
  {
   "cell_type": "code",
   "execution_count": 13,
   "id": "4ec2fb46-0b9f-4596-bf7d-be753b51e645",
   "metadata": {},
   "outputs": [],
   "source": [
    "#Q.3. List the logical operators."
   ]
  },
  {
   "cell_type": "code",
   "execution_count": null,
   "id": "987233de-a3e6-4e97-9450-7b2f778e27f3",
   "metadata": {},
   "outputs": [],
   "source": [
    "-There are three magical operators in python they are:\n",
    "    AND\n",
    "    OR\n",
    "    NOT"
   ]
  },
  {
   "cell_type": "code",
   "execution_count": null,
   "id": "34edab63-978d-4e51-b168-fccc55a597ff",
   "metadata": {},
   "outputs": [],
   "source": [
    "#Q.4. Explain right shift operator and left shift operator with examples."
   ]
  },
  {
   "cell_type": "code",
   "execution_count": 19,
   "id": "e5c63988-5030-43ff-98a2-6a4723c3363f",
   "metadata": {},
   "outputs": [
    {
     "name": "stdout",
     "output_type": "stream",
     "text": [
      "2\n"
     ]
    }
   ],
   "source": [
    "#rightshift\n",
    "a=10#1010\n",
    "result=a>>2\n",
    "print(result)#2-0010 here 10 shifted to right by 2 places"
   ]
  },
  {
   "cell_type": "code",
   "execution_count": 20,
   "id": "7e1b40ce-90d4-490d-83f3-7b32a780b3a7",
   "metadata": {},
   "outputs": [
    {
     "name": "stdout",
     "output_type": "stream",
     "text": [
      "40\n"
     ]
    }
   ],
   "source": [
    "#leftshift\n",
    "a=10#1010\n",
    "result=a<<2\n",
    "print(result)#101000 here 10 shifted left to 2 places"
   ]
  },
  {
   "cell_type": "code",
   "execution_count": 21,
   "id": "83b580ff-da04-47f2-ae9e-73071b1b8cc1",
   "metadata": {},
   "outputs": [],
   "source": [
    "#Q.5. Create a list containing int type data of length 15. Then write a code to check if 10 is present in the list or not."
   ]
  },
  {
   "cell_type": "code",
   "execution_count": 34,
   "id": "13e7dcef-01a5-4e80-a44e-9272d81515e5",
   "metadata": {},
   "outputs": [
    {
     "name": "stdout",
     "output_type": "stream",
     "text": [
      "10 is present in list\n"
     ]
    }
   ],
   "source": [
    "List=[1,2,3,4,5,6,7,8,9,10,11,12,13,14,15]\n",
    "for i in List:\n",
    "    if (i==10):\n",
    "        print(\"10 is present in list\")\n",
    "        "
   ]
  },
  {
   "cell_type": "code",
   "execution_count": null,
   "id": "70c7276a-b65b-49cf-b891-2f5298c882d3",
   "metadata": {},
   "outputs": [],
   "source": []
  },
  {
   "cell_type": "code",
   "execution_count": null,
   "id": "eaa57414-588b-423f-a07f-ebe741969d22",
   "metadata": {},
   "outputs": [],
   "source": []
  }
 ],
 "metadata": {
  "kernelspec": {
   "display_name": "Python 3 (ipykernel)",
   "language": "python",
   "name": "python3"
  },
  "language_info": {
   "codemirror_mode": {
    "name": "ipython",
    "version": 3
   },
   "file_extension": ".py",
   "mimetype": "text/x-python",
   "name": "python",
   "nbconvert_exporter": "python",
   "pygments_lexer": "ipython3",
   "version": "3.10.6"
  }
 },
 "nbformat": 4,
 "nbformat_minor": 5
}
