{
 "cells": [
  {
   "cell_type": "code",
   "execution_count": null,
   "id": "e5b751cc-e8e2-49ba-8f6c-3cae056fb69e",
   "metadata": {},
   "outputs": [],
   "source": [
    "1. In the below elements which of them are values or an expression? eg:- values can be\n",
    "integer or string and expressions will be mathematical operators.\n",
    "* :Its ia a mathematical expresion used for multiplication\n",
    "'hello':It is a string datatype which is consider as value and can assign to a variable\n",
    "-87.8:It is a integer datatype which is consider as value and can assign to a variable\n",
    "-:It is a mathematical expression and used for substraction of 2 numbers\n",
    "/:It is a mathematical expression and used for dividing of 2 numbers\n",
    "+:It is a mathematical expression and used for adding of 2 numbers\n",
    "6:It is a integer datatype which is consider as value and can assign to a variable"
   ]
  },
  {
   "cell_type": "code",
   "execution_count": null,
   "id": "1ac0f133-ca20-4869-9985-c8afdc0e836c",
   "metadata": {},
   "outputs": [],
   "source": [
    "2>Difference between string and variable?\n",
    "-Variable which can store data and can used in any part of programing\n",
    "-string is a datatype which is more than one character and can store in a variable"
   ]
  },
  {
   "cell_type": "code",
   "execution_count": null,
   "id": "fb922231-fd1f-4ceb-aede-d6f628f99533",
   "metadata": {},
   "outputs": [],
   "source": [
    "3. Describe three different data types?\n",
    "-Python Numeric data type:The data which has numeric values it can be a float(decimal number with +ve or _ve number),\n",
    " integer(contains +ve or -ve numbers without floating or fraction) and any complex number(specified in real and complex numbers).\n",
    "-String:It is a combination of unicode characters with more than one character denoted by single or double or triple quotes('',\"\",\"\"\" \"\"\")\n",
    "-List:A list is formed by same or by different datatypes by placing them in square brackets'[]'separated by comas','"
   ]
  },
  {
   "cell_type": "code",
   "execution_count": null,
   "id": "ed251f90-9b2f-4ead-8072-b04de5c6292b",
   "metadata": {},
   "outputs": [],
   "source": [
    "4. What is an expression made up of? What do all expressions do?\n",
    "-Combination of variables,operands and operator is called expresion which after being interpreted by python gives some value as result.It\n",
    "is a representation of value.ex:c=a=5"
   ]
  },
  {
   "cell_type": "code",
   "execution_count": null,
   "id": "e5e4067a-d04e-4fd2-adc8-fdbc5ce0518c",
   "metadata": {},
   "outputs": [],
   "source": [
    "5. This assignment statements, like spam = 10. What is the difference between an\n",
    "expression and a statement?\n",
    "-It is an expression statement used to update or executing a variable by assigning and return a value and results a value but statements \n",
    "are some actions or cammand and cant be done any function operations."
   ]
  },
  {
   "cell_type": "code",
   "execution_count": null,
   "id": "3d073775-cd3a-44a6-ab3b-df3ca59444bc",
   "metadata": {},
   "outputs": [],
   "source": [
    "6. After running the following code, what does the variable bacon contain?\n",
    "bacon = 22\n",
    "bacon + 1\n",
    "output=22(As we are not assigning it to anyvariable after incrementing)"
   ]
  },
  {
   "cell_type": "code",
   "execution_count": 8,
   "id": "590de126-a764-4d39-88df-f783f09deec2",
   "metadata": {},
   "outputs": [
    {
     "name": "stdout",
     "output_type": "stream",
     "text": [
      "22\n"
     ]
    }
   ],
   "source": [
    "bacon = 22\n",
    "bacon + 1\n",
    "print(bacon)"
   ]
  },
  {
   "cell_type": "code",
   "execution_count": null,
   "id": "e8b5f736-0222-4a0f-8478-083de51932f4",
   "metadata": {},
   "outputs": [],
   "source": [
    "7. What should the values of the following two terms be?\n",
    "'spam' + 'spamspam'\n",
    "'spam' * 3"
   ]
  },
  {
   "cell_type": "code",
   "execution_count": 10,
   "id": "4507d6b8-962b-4e18-b24a-e6b83afef1f4",
   "metadata": {},
   "outputs": [
    {
     "data": {
      "text/plain": [
       "'spamspamspam'"
      ]
     },
     "execution_count": 10,
     "metadata": {},
     "output_type": "execute_result"
    }
   ],
   "source": [
    "'spam' + 'spamspam'"
   ]
  },
  {
   "cell_type": "code",
   "execution_count": 11,
   "id": "a607fb55-21c8-4e19-b639-1dd3c1700b18",
   "metadata": {},
   "outputs": [
    {
     "data": {
      "text/plain": [
       "'spamspamspam'"
      ]
     },
     "execution_count": 11,
     "metadata": {},
     "output_type": "execute_result"
    }
   ],
   "source": [
    "'spam' * 3"
   ]
  },
  {
   "cell_type": "code",
   "execution_count": null,
   "id": "d4b4e663-7ff5-407e-97c1-7db7aba3807c",
   "metadata": {},
   "outputs": [],
   "source": [
    "8. Why is eggs a valid variable name while 100 is invalid?\n",
    "-In python variable need to start with any alphabet or '_' but cant be any numerals it wont take."
   ]
  },
  {
   "cell_type": "code",
   "execution_count": 12,
   "id": "d18f2971-3163-4229-b0c7-5221746a1b18",
   "metadata": {},
   "outputs": [
    {
     "ename": "SyntaxError",
     "evalue": "cannot assign to literal here. Maybe you meant '==' instead of '='? (2348370562.py, line 1)",
     "output_type": "error",
     "traceback": [
      "\u001b[0;36m  Cell \u001b[0;32mIn [12], line 1\u001b[0;36m\u001b[0m\n\u001b[0;31m    100=3\u001b[0m\n\u001b[0m    ^\u001b[0m\n\u001b[0;31mSyntaxError\u001b[0m\u001b[0;31m:\u001b[0m cannot assign to literal here. Maybe you meant '==' instead of '='?\n"
     ]
    }
   ],
   "source": [
    "100=3"
   ]
  },
  {
   "cell_type": "code",
   "execution_count": null,
   "id": "c1ed105b-af32-43e8-b39e-4ebe383f4155",
   "metadata": {},
   "outputs": [],
   "source": [
    "9. What three functions can be used to get the integer, floating-point number, or string\n",
    "version of a value?\n",
    "-integer-int()\n",
    "-floating-point number-float()\n",
    "-string-str()"
   ]
  },
  {
   "cell_type": "code",
   "execution_count": null,
   "id": "416332a4-8d91-405a-af9e-db30dd79ae27",
   "metadata": {},
   "outputs": [],
   "source": [
    "10. Why does this expression cause an error? How can you fix it?\n",
    "'I have eaten'  + 99 + ' burritos.'\n",
    "-It is a combination of string and integer we cant add integer with string instead we can make int as string by adding str() or\n",
    "giving quotations('')"
   ]
  },
  {
   "cell_type": "code",
   "execution_count": 13,
   "id": "d1e61a59-3472-4b33-9263-a3cb351b997b",
   "metadata": {},
   "outputs": [
    {
     "ename": "TypeError",
     "evalue": "can only concatenate str (not \"int\") to str",
     "output_type": "error",
     "traceback": [
      "\u001b[0;31m---------------------------------------------------------------------------\u001b[0m",
      "\u001b[0;31mTypeError\u001b[0m                                 Traceback (most recent call last)",
      "Cell \u001b[0;32mIn [13], line 1\u001b[0m\n\u001b[0;32m----> 1\u001b[0m \u001b[38;5;124;43m'\u001b[39;49m\u001b[38;5;124;43mI have eaten\u001b[39;49m\u001b[38;5;124;43m'\u001b[39;49m\u001b[43m  \u001b[49m\u001b[38;5;241;43m+\u001b[39;49m\u001b[43m \u001b[49m\u001b[38;5;241;43m99\u001b[39;49m \u001b[38;5;241m+\u001b[39m \u001b[38;5;124m'\u001b[39m\u001b[38;5;124m burritos.\u001b[39m\u001b[38;5;124m'\u001b[39m\n",
      "\u001b[0;31mTypeError\u001b[0m: can only concatenate str (not \"int\") to str"
     ]
    }
   ],
   "source": [
    "'I have eaten'  + 99 + ' burritos.'"
   ]
  },
  {
   "cell_type": "code",
   "execution_count": 16,
   "id": "8780c247-a6a8-49a0-a4ed-8481303541a6",
   "metadata": {},
   "outputs": [
    {
     "data": {
      "text/plain": [
       "'I have eaten 99 burritos.'"
      ]
     },
     "execution_count": 16,
     "metadata": {},
     "output_type": "execute_result"
    }
   ],
   "source": [
    "'I have eaten ' + '99' + ' burritos.'"
   ]
  },
  {
   "cell_type": "code",
   "execution_count": 18,
   "id": "50be7590-985e-49f2-bbdf-06109f45baa6",
   "metadata": {},
   "outputs": [
    {
     "data": {
      "text/plain": [
       "'I have eaten 99 burritos.'"
      ]
     },
     "execution_count": 18,
     "metadata": {},
     "output_type": "execute_result"
    }
   ],
   "source": [
    "'I have eaten '  + str(99) + ' burritos.'"
   ]
  },
  {
   "cell_type": "code",
   "execution_count": null,
   "id": "49ae096e-1cd2-4d60-89d3-8ebe669b9b4e",
   "metadata": {},
   "outputs": [],
   "source": []
  }
 ],
 "metadata": {
  "kernelspec": {
   "display_name": "Python 3 (ipykernel)",
   "language": "python",
   "name": "python3"
  },
  "language_info": {
   "codemirror_mode": {
    "name": "ipython",
    "version": 3
   },
   "file_extension": ".py",
   "mimetype": "text/x-python",
   "name": "python",
   "nbconvert_exporter": "python",
   "pygments_lexer": "ipython3",
   "version": "3.10.6"
  }
 },
 "nbformat": 4,
 "nbformat_minor": 5
}
