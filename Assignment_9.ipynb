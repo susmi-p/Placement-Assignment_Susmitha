{
 "cells": [
  {
   "cell_type": "markdown",
   "id": "1a3dcdf5-1a47-4ddd-877e-7a2e5cce9e4d",
   "metadata": {},
   "source": [
    "1. What is a lambda function in Python, and how does it differ from a regular function?"
   ]
  },
  {
   "cell_type": "markdown",
   "id": "f2eaa95d-60b3-461b-84d0-f7d2b30b67cf",
   "metadata": {},
   "source": [
    "-Lambda expression dont need a name to define so they sometimes called as anonymous functions.unlike regular function it will take any number of arguments and have one expression.These are not surrounded by parathesis. "
   ]
  },
  {
   "cell_type": "markdown",
   "id": "e86cde05-ca7f-43e7-a320-fec312620fec",
   "metadata": {},
   "source": [
    "2. Can a lambda function in Python have multiple arguments? If yes, how can you define and use them?"
   ]
  },
  {
   "cell_type": "markdown",
   "id": "5e438193-7599-4e1f-96f1-56ffd7aa77c4",
   "metadata": {},
   "source": [
    "-Yes,python lambda can have multiple arguments but they used in a expression and returns a single value.\n",
    "these are anonymous functions(no name given)and can use wherever function objects are required."
   ]
  },
  {
   "cell_type": "code",
   "execution_count": 1,
   "id": "9f674325-f414-4d11-bcd7-b21028f0dad4",
   "metadata": {},
   "outputs": [
    {
     "data": {
      "text/plain": [
       "3"
      ]
     },
     "execution_count": 1,
     "metadata": {},
     "output_type": "execute_result"
    }
   ],
   "source": [
    "#lamba with 2 arguments\n",
    "add=lambda x,y:x+y\n",
    "add(1,2)"
   ]
  },
  {
   "cell_type": "markdown",
   "id": "9d86eba9-60df-41b0-b293-b7ad1daa6b08",
   "metadata": {},
   "source": [
    "3. How are lambda functions typically used in Python? Provide an example use case."
   ]
  },
  {
   "cell_type": "markdown",
   "id": "712bb2fc-9271-4d41-8d41-fb07efd154ec",
   "metadata": {},
   "source": [
    "-Lambda functions can be used when we want to create a simple expression.that is when most complex condition not used like if else or for and while loops."
   ]
  },
  {
   "cell_type": "code",
   "execution_count": 2,
   "id": "1a6bcc46-d503-4a32-b4ba-b1caf7ffa697",
   "metadata": {},
   "outputs": [
    {
     "data": {
      "text/plain": [
       "[0, 1, 2, 3, 4]"
      ]
     },
     "execution_count": 2,
     "metadata": {},
     "output_type": "execute_result"
    }
   ],
   "source": [
    "add=lambda x:[i for i in range(x)]#here we done in a simple expression\n",
    "add(5)"
   ]
  },
  {
   "cell_type": "markdown",
   "id": "52f9ef41-832b-46fb-af2a-c1bf6f3beaf8",
   "metadata": {},
   "source": [
    "4. What are the advantages and limitations of lambda functions compared to regular functions in Python?"
   ]
  },
  {
   "cell_type": "markdown",
   "id": "1f8c4689-d5c0-461b-a0a3-f33e382eef5f",
   "metadata": {},
   "source": [
    "Advantages:\n",
    "-Lambda function is an anonymous function that can take any number of arguments\n",
    "-These ar not surrounded by paranthesis\n",
    "-lambda keyword maked to define a fuction in a single line and can use it immediatly\n",
    "\n",
    "Limitations:\n",
    "-They are unfamiliar syntax usage is different\n",
    "-they dont have docstring and they dont have name\n",
    "-code redability is low"
   ]
  },
  {
   "cell_type": "markdown",
   "id": "336c8821-d7a0-4395-803e-2a93ca40a884",
   "metadata": {},
   "source": [
    "5. Are lambda functions in Python able to access variables defined outside of their own scope?Explain with an example."
   ]
  },
  {
   "cell_type": "code",
   "execution_count": 3,
   "id": "316d69ee-e142-4a33-b125-9b71e4e5e204",
   "metadata": {},
   "outputs": [
    {
     "data": {
      "text/plain": [
       "6"
      ]
     },
     "execution_count": 3,
     "metadata": {},
     "output_type": "execute_result"
    }
   ],
   "source": [
    "x=6\n",
    "add=lambda x:x\n",
    "add(x)"
   ]
  },
  {
   "cell_type": "markdown",
   "id": "4a2858dd-33d8-40d6-af27-82677ef0ec9f",
   "metadata": {},
   "source": [
    "-Yes we can access variables defined outside of there scope as variable defined outside are global scope then we can access in any function."
   ]
  },
  {
   "cell_type": "markdown",
   "id": "47faf026-e565-4ab3-95f1-1990a58be830",
   "metadata": {},
   "source": [
    "6. Write a lambda function to calculate the square of a given number."
   ]
  },
  {
   "cell_type": "code",
   "execution_count": 4,
   "id": "0efaec49-e40c-41f1-bb89-b51b25c7c8b5",
   "metadata": {},
   "outputs": [
    {
     "data": {
      "text/plain": [
       "25"
      ]
     },
     "execution_count": 4,
     "metadata": {},
     "output_type": "execute_result"
    }
   ],
   "source": [
    "square=lambda x:x**2\n",
    "square(5)"
   ]
  },
  {
   "cell_type": "markdown",
   "id": "20dc6c8d-021b-451b-8f3a-491a5427e7da",
   "metadata": {},
   "source": [
    "7. Create a lambda function to find the maximum value in a list of integers."
   ]
  },
  {
   "cell_type": "code",
   "execution_count": 5,
   "id": "19150ed8-8932-4b71-ba93-666c9b6be444",
   "metadata": {},
   "outputs": [
    {
     "name": "stdout",
     "output_type": "stream",
     "text": [
      "9\n"
     ]
    }
   ],
   "source": [
    "l=[1,8,7,6,9,5,4,3,2]\n",
    "Max_Val=sorted(l,key=lambda x:x)\n",
    "print(Max_Val[-1])"
   ]
  },
  {
   "cell_type": "markdown",
   "id": "4997ac5b-319c-40cf-b5c3-39e9cd1dc801",
   "metadata": {},
   "source": [
    "8. Implement a lambda function to filter out all the even numbers from a list of integers."
   ]
  },
  {
   "cell_type": "code",
   "execution_count": 14,
   "id": "7e97b6b6-dffb-470d-8922-ae4dffc7c9e3",
   "metadata": {},
   "outputs": [
    {
     "name": "stdout",
     "output_type": "stream",
     "text": [
      "[8, 6, 4, 2]\n"
     ]
    }
   ],
   "source": [
    "l=[1,8,7,6,9,5,4,3,2]\n",
    "Even_Num=list(filter(lambda x:x%2==0,l))\n",
    "print(Even_Num)"
   ]
  },
  {
   "cell_type": "markdown",
   "id": "be0d5916-cd31-4220-8bd8-3a57ae74cd68",
   "metadata": {},
   "source": [
    "9. Write a lambda function to sort a list of strings in ascending order based on the length of each string."
   ]
  },
  {
   "cell_type": "code",
   "execution_count": 17,
   "id": "15955b03-83da-4e92-9abe-b8ef8dc09bb1",
   "metadata": {},
   "outputs": [
    {
     "name": "stdout",
     "output_type": "stream",
     "text": [
      "['d', 'ab', 'jkl', 'ghid', 'sqrst', 'uvwxyz', 'mnopdff']\n"
     ]
    }
   ],
   "source": [
    "str=['ab','d','ghid','jkl','mnopdff','sqrst','uvwxyz']\n",
    "sort_strlen=sorted(str,key=lambda x:len(x))\n",
    "print(sort_strlen)"
   ]
  },
  {
   "cell_type": "markdown",
   "id": "f6089070-9314-406b-9a2f-210a4582b4d9",
   "metadata": {},
   "source": [
    "10. Create a lambda function that takes two lists as input and returns a new list containing the common elements between the two lists."
   ]
  },
  {
   "cell_type": "code",
   "execution_count": 23,
   "id": "ac34f075-c943-4f10-bb29-f22d1a470673",
   "metadata": {},
   "outputs": [
    {
     "name": "stdout",
     "output_type": "stream",
     "text": [
      "{100, 'sus'}\n"
     ]
    }
   ],
   "source": [
    "l1=['sus',458,98,100]\n",
    "l2=[900,587,100,'sus',80]\n",
    "Common_ele=list(map(lambda l:set(l1).intersection(l2),l1))\n",
    "print(Common_ele[-1])"
   ]
  },
  {
   "cell_type": "code",
   "execution_count": 26,
   "id": "f94c6124-2f02-4265-ad8c-6b820acecfdf",
   "metadata": {},
   "outputs": [
    {
     "name": "stdout",
     "output_type": "stream",
     "text": [
      "['sus', 100]\n"
     ]
    }
   ],
   "source": [
    "from functools import reduce\n",
    "l1=['sus',458,98,100]\n",
    "l2=[900,587,100,'sus',80]\n",
    "Common_ele=list(reduce(lambda l,x:l+ [x] if x in l2 and x not in l else l,l1,[]))\n",
    "print(Common_ele)"
   ]
  },
  {
   "cell_type": "markdown",
   "id": "a61e6db4-b3f3-45ef-b4db-cfcbe4b3a53d",
   "metadata": {},
   "source": [
    "11. Write a recursive function to calculate the factorial of a given positive integer."
   ]
  },
  {
   "cell_type": "code",
   "execution_count": 40,
   "id": "67ffa8b5-9c0d-4de8-8732-c58f6597b23b",
   "metadata": {},
   "outputs": [
    {
     "name": "stdin",
     "output_type": "stream",
     "text": [
      "enter the number to know factorail: 10\n"
     ]
    },
    {
     "name": "stdout",
     "output_type": "stream",
     "text": [
      "55\n"
     ]
    }
   ],
   "source": [
    "n=int(input(\"enter the number to know factorail:\")) \n",
    "def factorial(n):\n",
    "    if n==1:\n",
    "        return n\n",
    "    else:\n",
    "        return n+factorial(n-1)\n",
    "print(factorial(n))"
   ]
  },
  {
   "cell_type": "markdown",
   "id": "6d904f19-be86-46ef-900d-200026aa6fc5",
   "metadata": {},
   "source": [
    "12. Implement a recursive function to compute the nth Fibonacci number."
   ]
  },
  {
   "cell_type": "code",
   "execution_count": 38,
   "id": "6fbd2407-5982-44cf-ad0c-a1efdee282bc",
   "metadata": {},
   "outputs": [
    {
     "name": "stdin",
     "output_type": "stream",
     "text": [
      "enter the number to know nth fibinocci number: 10\n"
     ]
    },
    {
     "name": "stdout",
     "output_type": "stream",
     "text": [
      "34\n"
     ]
    }
   ],
   "source": [
    "n=int(input(\"enter the number to know nth fibinocci number:\"))\n",
    "def fibinocci(n):\n",
    "    if n<=0:\n",
    "        print(\"wrong input\")\n",
    "    elif n==1:\n",
    "        return 0\n",
    "    elif n==2:\n",
    "        return 1\n",
    "    else:\n",
    "        return fibinocci(n-1)+fibinocci(n-2)\n",
    "print(fibinocci(n))\n"
   ]
  },
  {
   "cell_type": "markdown",
   "id": "308fc3f7-a04f-4841-a482-524c446ab4dc",
   "metadata": {},
   "source": [
    "13. Create a recursive function to find the sum of all the elements in a given list."
   ]
  },
  {
   "cell_type": "code",
   "execution_count": 56,
   "id": "096abff9-6639-4c59-a264-b07d2bc591d8",
   "metadata": {},
   "outputs": [
    {
     "name": "stdout",
     "output_type": "stream",
     "text": [
      "198\n"
     ]
    }
   ],
   "source": [
    "l=[45,58,85,10]\n",
    "def rec_sum(n):\n",
    "    total=0\n",
    "    for n in l:\n",
    "        total=total+n\n",
    "    return total\n",
    "print(rec_sum(l))\n",
    "    "
   ]
  },
  {
   "cell_type": "markdown",
   "id": "cfc110c5-de5b-4f5a-b2bd-e4160d438f03",
   "metadata": {},
   "source": [
    "14. Write a recursive function to determine whether a given string is a palindrome."
   ]
  },
  {
   "cell_type": "code",
   "execution_count": 61,
   "id": "05797d28-df46-4c29-b6ed-d880b1f3e763",
   "metadata": {},
   "outputs": [
    {
     "name": "stdin",
     "output_type": "stream",
     "text": [
      "Enter string: 168681\n"
     ]
    },
    {
     "name": "stdout",
     "output_type": "stream",
     "text": [
      "String isn't a palindrome!\n"
     ]
    }
   ],
   "source": [
    "str1=str(input(\"Enter string:\"))\n",
    "def is_palindrome(s):\n",
    "    if len(s) < 1:\n",
    "        return True\n",
    "    else:\n",
    "        if s[0] == s[-1]:\n",
    "            return is_palindrome(s[1:-1])\n",
    "        else:\n",
    "            return False\n",
    "if(is_palindrome(str1)==True):\n",
    "    print(\"String is a palindrome!\")\n",
    "else:\n",
    "    print(\"String isn't a palindrome!\")"
   ]
  },
  {
   "cell_type": "markdown",
   "id": "fbc65c8a-13d6-4da0-98cf-804d77ed79d9",
   "metadata": {},
   "source": [
    "15. Implement a recursive function to find the greatest common divisor (GCD) of two positive integers."
   ]
  },
  {
   "cell_type": "code",
   "execution_count": 78,
   "id": "f056b0bf-033b-4c23-963f-72063d350d9a",
   "metadata": {},
   "outputs": [
    {
     "name": "stdin",
     "output_type": "stream",
     "text": [
      "enter first positive number 5\n",
      "enter second positive number 15\n"
     ]
    },
    {
     "name": "stdout",
     "output_type": "stream",
     "text": [
      "5\n"
     ]
    }
   ],
   "source": [
    "n1=int(input(\"enter first positive number\"))\n",
    "n2=int(input(\"enter second positive number\"))\n",
    "def GCD(n1,n2):\n",
    "    if(n2==0):\n",
    "        return n1\n",
    "    else:\n",
    "        return GCD(n2,n1%n2)\n",
    "print(GCD(n1,n2))"
   ]
  },
  {
   "cell_type": "code",
   "execution_count": null,
   "id": "56829296-dbd5-4c14-97e0-13c5f671d075",
   "metadata": {},
   "outputs": [],
   "source": []
  },
  {
   "cell_type": "markdown",
   "id": "64113025-3958-40a1-bdb2-4894577552a6",
   "metadata": {},
   "source": []
  }
 ],
 "metadata": {
  "kernelspec": {
   "display_name": "Python 3 (ipykernel)",
   "language": "python",
   "name": "python3"
  },
  "language_info": {
   "codemirror_mode": {
    "name": "ipython",
    "version": 3
   },
   "file_extension": ".py",
   "mimetype": "text/x-python",
   "name": "python",
   "nbconvert_exporter": "python",
   "pygments_lexer": "ipython3",
   "version": "3.10.6"
  }
 },
 "nbformat": 4,
 "nbformat_minor": 5
}
