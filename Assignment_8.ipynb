{
 "cells": [
  {
   "cell_type": "markdown",
   "id": "6fef9d56-0ba4-42d4-8320-098362488f77",
   "metadata": {},
   "source": [
    "1. In Python, what is the difference between a built-in function and a user-defined function? Provide an example of each."
   ]
  },
  {
   "cell_type": "markdown",
   "id": "a4ddcb6e-9354-4f18-8143-a6f322bd48d6",
   "metadata": {},
   "source": [
    "ANS:\n",
    "-user defined functions which are created by us for the requirement of the code\n",
    "EX:def add(a,b):\n",
    "        return a+b\n",
    "      add(1,4)\n",
    "-built-in-function which are not created with the installation of python only we can access those\n",
    "l=[1,2,3]\n",
    "len(l)"
   ]
  },
  {
   "cell_type": "code",
   "execution_count": 1,
   "id": "71537bf2-0da7-4517-b772-d24e20f7576f",
   "metadata": {},
   "outputs": [
    {
     "data": {
      "text/plain": [
       "5"
      ]
     },
     "execution_count": 1,
     "metadata": {},
     "output_type": "execute_result"
    }
   ],
   "source": [
    "def add(a,b):\n",
    "    return a+b\n",
    "add(1,4)"
   ]
  },
  {
   "cell_type": "code",
   "execution_count": 3,
   "id": "ef7080b6-3010-41b9-b99f-c9737db9d823",
   "metadata": {},
   "outputs": [
    {
     "data": {
      "text/plain": [
       "3"
      ]
     },
     "execution_count": 3,
     "metadata": {},
     "output_type": "execute_result"
    }
   ],
   "source": [
    "l=[1,2,3]\n",
    "len(l)"
   ]
  },
  {
   "cell_type": "markdown",
   "id": "10f3e85a-ceea-4cb5-871e-47048f9c9228",
   "metadata": {},
   "source": [
    "2. How can you pass arguments to a function in Python? Explain the difference between positional arguments and keyword arguments."
   ]
  },
  {
   "cell_type": "markdown",
   "id": "3e25461c-95d1-4da9-96b6-e75b582c8130",
   "metadata": {},
   "source": [
    "-Python has 2 important types of arguments i.e positional and keyword arguments these provides input values to a program or function returns output based on arguments we pass.\n",
    "Positional arguments:Positional arguments that not followed by an equal sign(=) and default value\n",
    "keyword arguments:It is followed by an equal sign and expression that gives its default value"
   ]
  },
  {
   "cell_type": "code",
   "execution_count": 4,
   "id": "624845e8-1caa-4094-b899-21f65a53f278",
   "metadata": {},
   "outputs": [
    {
     "data": {
      "text/plain": [
       "(1, 2)"
      ]
     },
     "execution_count": 4,
     "metadata": {},
     "output_type": "execute_result"
    }
   ],
   "source": [
    "def numbers(num1,num2):\n",
    "    return num1,num2\n",
    "numbers(1,2)#here whatever order we pass it only accumulate in that parameter"
   ]
  },
  {
   "cell_type": "code",
   "execution_count": 8,
   "id": "1aa17838-741d-42cf-a952-830387635f35",
   "metadata": {},
   "outputs": [
    {
     "data": {
      "text/plain": [
       "(5, 3)"
      ]
     },
     "execution_count": 8,
     "metadata": {},
     "output_type": "execute_result"
    }
   ],
   "source": [
    "def number(num1,num2):\n",
    "    return num1,num2\n",
    "number(num2=3,num1=5)#here we changed order but it passed values through assignment operator"
   ]
  },
  {
   "cell_type": "markdown",
   "id": "df452cf0-dc6b-428c-b4e2-8605f59239ef",
   "metadata": {},
   "source": [
    "3. What is the purpose of the return statement in a function? Can a function have multiple return statements? Explain with an example."
   ]
  },
  {
   "cell_type": "markdown",
   "id": "94d05de2-b155-43cb-b83f-8270668d7fe4",
   "metadata": {},
   "source": [
    "-A return statement ends the processing of the function and returns control to the caller function.\n",
    "-A function can have more than one return statement but only run one of the return statement according to the condition."
   ]
  },
  {
   "cell_type": "markdown",
   "id": "45ca1f38-6d9f-4ca4-8b2c-ea827cad9b8b",
   "metadata": {},
   "source": [
    "4. What are lambda functions in Python? How are they different from regular functions? Provide an example where a lambda function can be useful."
   ]
  },
  {
   "cell_type": "markdown",
   "id": "d7267012-f81c-492d-91eb-ffcc3daf5135",
   "metadata": {},
   "source": [
    "-A Lambda function is a anonymous function which defined by a name that take any number of arguments unlike normal function which evaluates and return only one expression.And lambda function not surrounded with parentheses.lambda keyword used for lambda but def keyword used for normal function.Lambda also avoid multiple line of code."
   ]
  },
  {
   "cell_type": "code",
   "execution_count": 10,
   "id": "50c933b7-a3c0-4c6a-8952-a74c3afcc2bc",
   "metadata": {},
   "outputs": [
    {
     "data": {
      "text/plain": [
       "9"
      ]
     },
     "execution_count": 10,
     "metadata": {},
     "output_type": "execute_result"
    }
   ],
   "source": [
    "d=lambda a,b:a+b#here we an avoid multiple line of code\n",
    "d(4,5)"
   ]
  },
  {
   "cell_type": "markdown",
   "id": "7feb69dc-21c3-4854-ad14-7708b1154943",
   "metadata": {},
   "source": [
    "5. How does the concept of \"scope\" apply to functions in Python? Explain the difference between local scope and global scope."
   ]
  },
  {
   "cell_type": "markdown",
   "id": "f1535a32-6aa5-4d06-8fb8-72f2cf7904f1",
   "metadata": {},
   "source": [
    "-Variables that are defined inside a function body have a local scope, and those defined outside have a global scope.\n",
    "-A variable defined outside of the any function or curly brackets are known as global scope .This means that variable can be accessed from any part of the program,any function can access the variable.It is defined by using global keyword and we can make changes to variable in local context.\n",
    "-Where as local variable only accessed within function or module in which they defined."
   ]
  },
  {
   "cell_type": "markdown",
   "id": "839861e8-cfc1-4e0b-b1f3-b2aac840b43e",
   "metadata": {},
   "source": [
    "6. How can you use the \"return\" statement in a Python function to return multiple values?"
   ]
  },
  {
   "cell_type": "markdown",
   "id": "10de3b43-3cd2-4ca7-9db0-07f9a5677ef7",
   "metadata": {},
   "source": [
    "-In python,multiple values can be return simply separating caommas in the retun statement."
   ]
  },
  {
   "cell_type": "code",
   "execution_count": 11,
   "id": "f73386c1-1281-45e9-bd02-6b187a417906",
   "metadata": {},
   "outputs": [],
   "source": [
    "def test():\n",
    "    return 's',25,[1,2,3]"
   ]
  },
  {
   "cell_type": "code",
   "execution_count": 12,
   "id": "6b5e2604-4df0-4333-a5f5-1d3adfae74ae",
   "metadata": {},
   "outputs": [
    {
     "data": {
      "text/plain": [
       "('s', 25, [1, 2, 3])"
      ]
     },
     "execution_count": 12,
     "metadata": {},
     "output_type": "execute_result"
    }
   ],
   "source": [
    "test()"
   ]
  },
  {
   "cell_type": "code",
   "execution_count": 14,
   "id": "b3c64340-c1da-46f9-8a92-473f3759726c",
   "metadata": {},
   "outputs": [
    {
     "name": "stdout",
     "output_type": "stream",
     "text": [
      "s\n",
      "25\n",
      "[1, 2, 3]\n"
     ]
    }
   ],
   "source": [
    "a,b,c=test()\n",
    "print(a)\n",
    "print(b)\n",
    "print(c)"
   ]
  },
  {
   "cell_type": "markdown",
   "id": "a69648db-98ee-4904-87be-f3177c7699bb",
   "metadata": {},
   "source": [
    "7. What is the difference between the \"pass by value\" and \"pass by reference\" concepts when it comes to function arguments in Python?"
   ]
  },
  {
   "cell_type": "markdown",
   "id": "9d4bb4a0-8c93-4f38-b158-6bed2180cdaf",
   "metadata": {},
   "source": [
    "-When we give function parameter through pass by reference,your just passing reference to values that already exit.When you pass arguments by value ,it is independent and copies of the original values."
   ]
  },
  {
   "cell_type": "code",
   "execution_count": 20,
   "id": "a11e604a-d85e-419c-b6fa-58bc5fa65ed6",
   "metadata": {},
   "outputs": [
    {
     "name": "stdout",
     "output_type": "stream",
     "text": [
      "Before function call  100\n",
      "Inside function call  200\n",
      "After function call  100\n"
     ]
    }
   ],
   "source": [
    "def function(int):\n",
    "    int+=100\n",
    "    print(\"Inside function call \",int)\n",
    "\n",
    "int=100\n",
    "print(\"Before function call \",int)\n",
    "function(int)\n",
    "print(\"After function call \",int)\n"
   ]
  },
  {
   "cell_type": "markdown",
   "id": "ed67f8d8-d7b0-4b4b-9b79-5e9907a9fbda",
   "metadata": {},
   "source": [
    "8. Create a function that can intake integer or decimal value and do following operations:\n",
    "a. Logarithmic function (log x)\n",
    "b. Exponential function (exp(x))\n",
    "c. Power function with base 2 (2x)\n",
    "d. Square root"
   ]
  },
  {
   "cell_type": "code",
   "execution_count": 35,
   "id": "cfbfedf1-7db4-478d-894d-eaef389e2ee3",
   "metadata": {},
   "outputs": [
    {
     "name": "stdin",
     "output_type": "stream",
     "text": [
      "Please enter the value of x: 9\n"
     ]
    },
    {
     "name": "stdout",
     "output_type": "stream",
     "text": [
      "The value of log x is : 2.1972245773362196\n",
      "The value of exp(x) : 8103.083927575384\n",
      "The value of 2 to the power of 2x : 262144.0\n",
      "The value of square root of x : 3.0\n"
     ]
    }
   ],
   "source": [
    "x=float(input(\"Please enter the value of x:\"))\n",
    "import math\n",
    "print(\"The value of log x is : \",end=\"\")\n",
    "print(math.log(x))\n",
    "print(\"The value of exp(x) : \",end=\"\")\n",
    "print(math.exp(x))\n",
    "print(\"The value of 2 to the power of 2x : \",end=\"\")\n",
    "print(math.pow(2,2*x))\n",
    "print(\"The value of square root of x : \",end=\"\")\n",
    "print(math.sqrt(x))"
   ]
  },
  {
   "cell_type": "markdown",
   "id": "a63e8102-f5fb-4b2c-ad03-77bc605a7c11",
   "metadata": {},
   "source": [
    "9. Create a function that takes a full name as an argument and returns first name and last name."
   ]
  },
  {
   "cell_type": "code",
   "execution_count": 61,
   "id": "8829ce38-1261-4a16-a6a1-f2e14861e6a9",
   "metadata": {},
   "outputs": [],
   "source": [
    "def fullname(x):\n",
    "    firstname,lastname =x.split()\n",
    "    return firstname,lastname"
   ]
  },
  {
   "cell_type": "code",
   "execution_count": 62,
   "id": "0da7ce70-d0fb-4924-8a1f-4a9ee2359ebf",
   "metadata": {},
   "outputs": [
    {
     "data": {
      "text/plain": [
       "('Penagalooru', 'susmitha')"
      ]
     },
     "execution_count": 62,
     "metadata": {},
     "output_type": "execute_result"
    }
   ],
   "source": [
    "fullname(\"Penagalooru susmitha\")"
   ]
  },
  {
   "cell_type": "code",
   "execution_count": null,
   "id": "5ee52d2e-e53a-430a-92c1-fe125cc5dae6",
   "metadata": {},
   "outputs": [],
   "source": []
  },
  {
   "cell_type": "code",
   "execution_count": null,
   "id": "ff842d91-235c-4aa9-833b-7938dfbf8770",
   "metadata": {},
   "outputs": [],
   "source": []
  }
 ],
 "metadata": {
  "kernelspec": {
   "display_name": "Python 3 (ipykernel)",
   "language": "python",
   "name": "python3"
  },
  "language_info": {
   "codemirror_mode": {
    "name": "ipython",
    "version": 3
   },
   "file_extension": ".py",
   "mimetype": "text/x-python",
   "name": "python",
   "nbconvert_exporter": "python",
   "pygments_lexer": "ipython3",
   "version": "3.10.6"
  }
 },
 "nbformat": 4,
 "nbformat_minor": 5
}
