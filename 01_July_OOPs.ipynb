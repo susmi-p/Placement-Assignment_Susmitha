{
 "cells": [
  {
   "cell_type": "markdown",
   "id": "3345b5e4-4bc6-4e60-a219-2aeef658131f",
   "metadata": {},
   "source": [
    "1. What is the primary goal of Object-Oriented Programming (OOP)?"
   ]
  },
  {
   "cell_type": "markdown",
   "id": "ed540a8b-e386-47c6-968e-729887ce2ab5",
   "metadata": {},
   "source": [
    "-The Object Orented programming language is based on classes and objects .It is used to structure a program into a simple ,reusable piece of code.The entire software program runs by having multiple objects interact with objects to create a large program.\n",
    "\n",
    "-It helps to hold entire data into a single object such that it would be easy to pass this to other methods and objects."
   ]
  },
  {
   "cell_type": "markdown",
   "id": "a7440b50-097f-4129-826e-2b344a46cfb5",
   "metadata": {},
   "source": [
    "2. What is an object in Python?"
   ]
  },
  {
   "cell_type": "markdown",
   "id": "900e7ec5-5313-4f8c-8108-060b306d8848",
   "metadata": {},
   "source": [
    "-An Object is an instance of a Class.Instance is a copy of the class with actual values.\n",
    "\n",
    "-Instance  represent memory allocation necessary for storing the actual data of variables. Each time when you create an object of class a copy of each data variable defined in that class is created. -In simple language, we can state that each object of a class has its own copy of data members defined in that class. "
   ]
  },
  {
   "cell_type": "markdown",
   "id": "1edaf5b3-2bd1-4cef-a590-08c959561aae",
   "metadata": {},
   "source": [
    "3. What is a class in Python?"
   ]
  },
  {
   "cell_type": "markdown",
   "id": "7a2c6fbb-e8b5-4b8f-b075-8675f9d0e93b",
   "metadata": {},
   "source": [
    "-A Class is like an object constructor or a \"blueprint\" for creating objects.\n",
    "\n",
    "-All classes have a function called __init__(), which is always executed when the class is being initiated.\n",
    "\n",
    "-when you have a set of data with a specific structure and you want to perform specific methods on it we use a class."
   ]
  },
  {
   "cell_type": "markdown",
   "id": "14810d3c-fcee-4c8a-9fd6-f254bad2c45d",
   "metadata": {},
   "source": [
    "4. What are attributes and methods in a class?"
   ]
  },
  {
   "cell_type": "markdown",
   "id": "f3f2e082-a090-41b4-9ed7-7658e0094058",
   "metadata": {},
   "source": [
    "-Class attributes are variables of a class that are shared between all of its instances.\n",
    "\n",
    "-Attributes of a class are function objects that define corresponding methods of its instances. They are used to implement access controls of the classes. Attributes of a class can also be accessed using the built-in methods and functions \n",
    "\n",
    "-Methods are the Functions and Procedures attached to an Object and allowing the object to perform actions.\n",
    "\n",
    "-Any function defined within a class is a method . Methods receive an instance of the class, conventionally called self , as the first argument."
   ]
  },
  {
   "cell_type": "markdown",
   "id": "33154e11-75b8-4bff-8a9b-ca5d9cef9b57",
   "metadata": {},
   "source": [
    "5. What is the difference between class variables and instance variables in Python?"
   ]
  },
  {
   "cell_type": "markdown",
   "id": "0c2d82a4-76f0-4f9c-aef2-857e5ed02c77",
   "metadata": {},
   "source": [
    "-Class variables are shared across all objects while instance variables are for data unique to each instance. Instance variable overrides the Class variables having same name which can accidentally introduce bugs or surprising behaviour in our code.\n",
    "\n",
    "-Instance variable will be assign like self.name=\"xyz\"."
   ]
  },
  {
   "cell_type": "markdown",
   "id": "e1299210-ee32-4a7c-8888-89b2cee335e2",
   "metadata": {},
   "source": [
    "6. What is the purpose of the self parameter in Python class methods?"
   ]
  },
  {
   "cell_type": "markdown",
   "id": "94af2bd3-43b7-4614-aa2b-27586fc47549",
   "metadata": {},
   "source": [
    "-The self parameter is a reference to the current instance of the class, and is used to access variables that belongs to the class.\n",
    "\n",
    "-It does not have to be named self , you can call it whatever you like, but it has to be the first parameter of any function in the class."
   ]
  },
  {
   "cell_type": "markdown",
   "id": "bd24a1b7-d3ee-44f6-8cee-66977e1a46c3",
   "metadata": {},
   "source": [
    "7. For a library management system, you have to design the \"Book\" class with OOP principles in mind. The “Book” class will have following attributes:\n",
    "a. title: Represents the title of the book.\n",
    "b. author: Represents the author(s) of the book.\n",
    "c. isbn: Represents the ISBN (International Standard Book Number) of the book.\n",
    "d. publication_year: Represents the year of publication of the book.\n",
    "e. available_copies: Represents the number of copies available for checkout.\n",
    "The class will also include the following methods:\n",
    "a. check_out(self): Decrements the available copies by one if there are copies available for checkout.\n",
    "b. return_book(self): Increments the available copies by one when a book is returned.\n",
    "c. display_book_info(self): Displays the information about the book, including its attributes and the number of available copies."
   ]
  },
  {
   "cell_type": "code",
   "execution_count": 9,
   "id": "1336f8c8-4c8d-48cb-b884-2eb6b99a412c",
   "metadata": {},
   "outputs": [],
   "source": [
    "class Book:\n",
    "    def __init__(self,title,author,isbn,publication_year,available_copies):\n",
    "        self.title=title\n",
    "        self.author=author\n",
    "        self.isbn=isbn\n",
    "        self.publication_year=publication_year\n",
    "        self.available_copies=available_copies\n",
    "        \n",
    "    def check_out(self):\n",
    "        \n",
    "        self.copies=self.available_copies-1\n",
    "        \n",
    "        if self.available_copies==0:\n",
    "            print(\"No copies to checkout\")\n",
    "        else:\n",
    "            print(\"The available copies are : \",self.copies)\n",
    "              \n",
    "    def return_book(self):\n",
    "        self.copies=self.copies+1\n",
    "        print(\"The available copies are :\" ,self.copies)       \n",
    "\n",
    "    def display_book_info(self):   \n",
    "        \n",
    "        print(f\"The title of the book is : { self.title} ,author is : {self.author} , Isbn number of book is : {self.isbn} ,Year of publition is : {self.publication_year} ,Number of copies available are : {self.copies}\")\n",
    "        \n",
    "        "
   ]
  },
  {
   "cell_type": "code",
   "execution_count": 10,
   "id": "11fb74b2-6252-4b2f-b180-940c8e416d6f",
   "metadata": {},
   "outputs": [
    {
     "name": "stdout",
     "output_type": "stream",
     "text": [
      "The available copies are :  9\n",
      "The available copies are : 10\n",
      "The title of the book is : Harry Potter ,author is : J.K.Rowling , Isbn number of book is : 9781408855652 ,Year of publition is : 1997-2007 ,Number of copies available are : 10\n"
     ]
    }
   ],
   "source": [
    "book=Book(\"Harry Potter\",\"J.K.Rowling\",\"9781408855652\",\"1997-2007\",10)\n",
    "book.check_out()\n",
    "book.return_book()\n",
    "book.display_book_info()"
   ]
  },
  {
   "cell_type": "markdown",
   "id": "91bf1bd8-9fe7-4303-bc81-c0527e038624",
   "metadata": {},
   "source": [
    "8. For a ticket booking system, you have to design the \"Ticket\" class with OOP principles in mind. The “Ticket” class should have the following attributes:\n",
    "a. ticket_id: Represents the unique identifier for the ticket.\n",
    "b. event_name: Represents the name of the event.\n",
    "c. event_date: Represents the date of the event.\n",
    "d. venue: Represents the venue of the event.\n",
    "e. seat_number: Represents the seat number associated with the ticket.\n",
    "f. price: Represents the price of the ticket.\n",
    "g. is_reserved: Represents the reservation status of the ticket.\n",
    "The class also includes the following methods:\n",
    "a. reserve_ticket(self): Marks the ticket as reserved if it is not already reserved.\n",
    "b. cancel_reservation(self): Cancels the reservation of the ticket if it is already\n",
    "reserved.\n",
    "c. display_ticket_info(self): Displays the information about the ticket, including its\n",
    "attributes and reservation status."
   ]
  },
  {
   "cell_type": "code",
   "execution_count": 13,
   "id": "8ab53611-245f-460e-9b81-3e303b86e194",
   "metadata": {},
   "outputs": [],
   "source": [
    "class Ticket:\n",
    "    def __init__(self,ticket_id,event_name,event_date,venue,seat_number,price,is_reserved):\n",
    "        self.ticket_id=ticket_id\n",
    "        self.event_name=event_name\n",
    "        self.event_date=event_date\n",
    "        self.venue=venue\n",
    "        self.seat_number=seat_number\n",
    "        self.price=price\n",
    "        self.is_reserved=is_reserved\n",
    "        \n",
    "    def reserve_ticket(self):\n",
    "        \n",
    "        if(self.is_reserved==\"NotBooked\"):\n",
    "            self.is_reserved=\"Booked\"\n",
    "            print(\"The ticket is reserved successfully\")\n",
    "            \n",
    "        else:\n",
    "            self.is_reserved\n",
    "            print(\"The ticket already reserved\")\n",
    "        \n",
    "    def cancel_reservation(self):\n",
    "        \n",
    "        if(self.is_reserved==\"Booked\"):\n",
    "            self.is_reserved=\"NotBooked\"\n",
    "            print(\"The ticket is cancelled successfully\")\n",
    "            \n",
    "        else:\n",
    "            self.is_reserved\n",
    "            print(\"The ticket not booked\")\n",
    "        \n",
    "    def display_ticket_info(self):\n",
    "        print(f\"The ticket id is : {self.ticket_id} ,event_name is : {self.event_name} ,event date is : {self.event_date} ,Venue is : {self.venue},seat number is : {self.seat_number},price of ticket is : {self.price} ,Status of ticket is : {self.is_reserved} \")"
   ]
  },
  {
   "cell_type": "code",
   "execution_count": 21,
   "id": "184d5f25-65d4-4638-b0ab-7cef0a2a6c22",
   "metadata": {},
   "outputs": [
    {
     "name": "stdout",
     "output_type": "stream",
     "text": [
      "The ticket is reserved successfully\n",
      "The ticket id is : 54546 ,event_name is : event1 ,event date is : 5th ,Venue is : Bangloor,seat number is : 250,price of ticket is : s43 ,Status of ticket is : Booked \n",
      "The ticket is cancelled successfully\n",
      "The ticket id is : 54546 ,event_name is : event1 ,event date is : 5th ,Venue is : Bangloor,seat number is : 250,price of ticket is : s43 ,Status of ticket is : NotBooked \n"
     ]
    }
   ],
   "source": [
    "ticket=Ticket(\"54546\",\"event1\",\"5th\",\"Bangloor\",250,\"s43\",\"NotBooked\")\n",
    "ticket.reserve_ticket()\n",
    "ticket.display_ticket_info()\n",
    "ticket.cancel_reservation()\n",
    "ticket.display_ticket_info()"
   ]
  },
  {
   "cell_type": "markdown",
   "id": "1ca0f64d-104a-462e-bece-821a292f8e30",
   "metadata": {},
   "source": [
    "9. You are creating a shopping cart for an e-commerce website. Using OOP to model the \"ShoppingCart\" functionality the class should contain following attributes and methods:\n",
    "a. items: Represents the list of items in the shopping cart.\n",
    "The class also includes the following methods:\n",
    "\n",
    "a. add_item(self, item): Adds an item to the shopping cart by appending it to the\n",
    "list of items.\n",
    "b. remove_item(self, item): Removes an item from the shopping cart if it exists in\n",
    "the list.\n",
    "c. view_cart(self): Displays the items currently present in the shopping cart.\n",
    "d. clear_cart(self): Clears all items from the shopping cart by reassigning an\n",
    "empty list to the items attribute."
   ]
  },
  {
   "cell_type": "code",
   "execution_count": 37,
   "id": "84ad09b3-155a-4e50-978a-ff46c4f57fea",
   "metadata": {},
   "outputs": [],
   "source": [
    "class ShoppingCart:\n",
    "    def __init__(self,items):\n",
    "        self.items=items\n",
    "        \n",
    "    def add_item(self,item):\n",
    "        self.item=item\n",
    "        l=self.items\n",
    "        l.append(self.item)\n",
    "        print(\"The Items in the shopping cart are :\" ,self.items)\n",
    "        \n",
    "    def remove_item(self, item):\n",
    "        self.item=item\n",
    "        l=self.items\n",
    "        if self.item in l:\n",
    "            l.remove(self.item)\n",
    "            print(\"My items in the shopping cart are : \" ,self.items)\n",
    "        else:\n",
    "            print(\"there is no such item to remover please check the list :\" ,l)\n",
    "            \n",
    "    def view_cart(self):\n",
    "        l=self.items\n",
    "        print(\"The items in th shoppig cart are : \",l)\n",
    "        \n",
    "    def clear_cart(self):\n",
    "        l=self.items\n",
    "        if l==0:\n",
    "            print(\"Cart is Empty\")\n",
    "        else:\n",
    "            l.clear()\n",
    "            print(\"Cart is cleared \" ,l)"
   ]
  },
  {
   "cell_type": "code",
   "execution_count": 38,
   "id": "03d91263-28ec-4bb3-a3a1-6488f4e68236",
   "metadata": {},
   "outputs": [
    {
     "name": "stdout",
     "output_type": "stream",
     "text": [
      "The Items in the shopping cart are : ['bag', 'dress', 'kitchenItems', 'vegetables', 'Mobilephone', 'Stationary']\n",
      "My items in the shopping cart are :  ['bag', 'dress', 'vegetables', 'Mobilephone', 'Stationary']\n",
      "The items in th shoppig cart are :  ['bag', 'dress', 'vegetables', 'Mobilephone', 'Stationary']\n",
      "Cart is cleared  []\n"
     ]
    }
   ],
   "source": [
    "shoppingcart=ShoppingCart([\"bag\",\"dress\",\"kitchenItems\",\"vegetables\",\"Mobilephone\"])\n",
    "shoppingcart.add_item(\"Stationary\")\n",
    "shoppingcart.remove_item(\"kitchenItems\")\n",
    "shoppingcart.view_cart()\n",
    "shoppingcart.clear_cart()"
   ]
  },
  {
   "cell_type": "markdown",
   "id": "18d26592-0d66-49be-8144-b9797b0783a6",
   "metadata": {},
   "source": [
    "10. Imagine a school management system. You have to design the \"Student\" class using OOP concepts.The “Student” class has the following attributes:\n",
    "a. name: Represents the name of the student.\n",
    "b. age: Represents the age of the student.\n",
    "c. grade: Represents the grade or class of the student.\n",
    "d. student_id: Represents the unique identifier for the student.\n",
    "e. attendance: Represents the attendance record of the student.\n",
    "The class should also include the following methods:\n",
    "a. update_attendance(self, date, status): Updates the attendance record of the\n",
    "student for a given date with the provided status (e.g., present or absent).\n",
    "b. get_attendance(self): Returns the attendance record of the student.\n",
    "c. get_average_attendance(self): Calculates and returns the average\n",
    "attendance percentage of the student based on their attendance record."
   ]
  },
  {
   "cell_type": "code",
   "execution_count": 41,
   "id": "7aab1542-be89-4d7f-ae34-2a3b29928844",
   "metadata": {},
   "outputs": [],
   "source": [
    "class Student:\n",
    "    def __init__(self,name,age,grade,student_id,attendance):\n",
    "        self.name=name\n",
    "        self.age=age\n",
    "        self.grade=grade\n",
    "        self.student_id=student_id\n",
    "        self.attendance=attendance\n",
    "        \n",
    "    def update_attendance(self, date, status):\n",
    "        self.date=date\n",
    "        self.status=status\n",
    "        if self.status==\"present\":\n",
    "            self.attendance+=1\n",
    "            print(f\"The updated attendance of the student : {self.name} with {self.student_id} ,grade : {self.grade} , age : {self.age} is : {self.attendance}\")\n",
    "        else:\n",
    "            print(f\"The updated attendance of the student : {self.name} with {self.student_id} ,grade : {self.grade} , age : {self.age} is : {self.attendance}\")\n",
    "        \n",
    "    def get_attendance(self):\n",
    "        print(f\"The attendance record of the student : {self.name} with {self.student_id} ,grade : {self.grade} , age : {self.age} is : {self.attendance}\")\n",
    "        \n",
    "    def get_average_attendance(self):\n",
    "        self.Total_Working_Days=50\n",
    "        self.avg=((self.attendance/100+self.Total_Working_Days/100)/2)*100\n",
    "        return \"the average attendance percentage of the student : {self.name} with {self.student_id} ,grade : {self.grade} , age : {self.age} is \",self.avg"
   ]
  },
  {
   "cell_type": "code",
   "execution_count": 45,
   "id": "3a19df2a-2b99-43b6-bf5d-629e2380d9d8",
   "metadata": {},
   "outputs": [
    {
     "name": "stdout",
     "output_type": "stream",
     "text": [
      "The updated attendance of the student : susmitha with 56 ,grade : A , age : 23 is : 30\n",
      "The attendance record of the student : susmitha with 56 ,grade : A , age : 23 is : 30\n"
     ]
    },
    {
     "data": {
      "text/plain": [
       "('the average attendance percentage of the student : {self.name} with {self.student_id} ,grade : {self.grade} , age : {self.age} is ',\n",
       " 40.0)"
      ]
     },
     "execution_count": 45,
     "metadata": {},
     "output_type": "execute_result"
    }
   ],
   "source": [
    "student=Student(\"susmitha\",23,\"A\",56,29)\n",
    "student.update_attendance(\"5th july 2023\",\"present\")\n",
    "student.get_attendance()\n",
    "student.get_average_attendance()"
   ]
  },
  {
   "cell_type": "code",
   "execution_count": null,
   "id": "aacddd27-de6e-4afd-90cc-79064cc27233",
   "metadata": {},
   "outputs": [],
   "source": []
  },
  {
   "cell_type": "code",
   "execution_count": null,
   "id": "ff3fe821-c4ca-4d57-b330-f77af0801c2f",
   "metadata": {},
   "outputs": [],
   "source": []
  },
  {
   "cell_type": "code",
   "execution_count": null,
   "id": "5b2f9dfa-b594-4f53-bd59-8499a28dc9b5",
   "metadata": {},
   "outputs": [],
   "source": []
  },
  {
   "cell_type": "code",
   "execution_count": null,
   "id": "dc5bd5fe-d745-4031-9373-6e4834a84e37",
   "metadata": {},
   "outputs": [],
   "source": []
  },
  {
   "cell_type": "code",
   "execution_count": null,
   "id": "0acdec79-acf7-4baa-ab53-5756775912db",
   "metadata": {},
   "outputs": [],
   "source": []
  },
  {
   "cell_type": "code",
   "execution_count": null,
   "id": "2f57b165-caeb-4935-99ad-5c17192c66eb",
   "metadata": {},
   "outputs": [],
   "source": []
  },
  {
   "cell_type": "code",
   "execution_count": null,
   "id": "8322e975-9e47-4d63-a659-ad43ed4665fb",
   "metadata": {},
   "outputs": [],
   "source": []
  },
  {
   "cell_type": "code",
   "execution_count": null,
   "id": "45753d4c-5ad7-40c5-82b8-16b3a0d2b8b4",
   "metadata": {},
   "outputs": [],
   "source": []
  },
  {
   "cell_type": "code",
   "execution_count": null,
   "id": "1f93400e-f9d3-4bc1-9087-784225b8c5d0",
   "metadata": {},
   "outputs": [],
   "source": []
  },
  {
   "cell_type": "code",
   "execution_count": null,
   "id": "60cfb345-6658-43ae-ab62-f2382dd223b7",
   "metadata": {},
   "outputs": [],
   "source": []
  }
 ],
 "metadata": {
  "kernelspec": {
   "display_name": "Python 3 (ipykernel)",
   "language": "python",
   "name": "python3"
  },
  "language_info": {
   "codemirror_mode": {
    "name": "ipython",
    "version": 3
   },
   "file_extension": ".py",
   "mimetype": "text/x-python",
   "name": "python",
   "nbconvert_exporter": "python",
   "pygments_lexer": "ipython3",
   "version": "3.10.6"
  }
 },
 "nbformat": 4,
 "nbformat_minor": 5
}
