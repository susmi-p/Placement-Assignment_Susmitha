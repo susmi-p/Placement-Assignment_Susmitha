{
 "cells": [
  {
   "cell_type": "code",
   "execution_count": null,
   "id": "673f7268-6cd1-41f2-ae96-270e088e91c0",
   "metadata": {},
   "outputs": [],
   "source": [
    "1.What are the two values of the Boolean data type? How do you write them?\n",
    "-Boolean values can either be True or False.They can be declared as bool keyword and the value return is True=1,False=0. "
   ]
  },
  {
   "cell_type": "code",
   "execution_count": 11,
   "id": "6a2445b9-7562-475a-8bb3-cbe83e9fec5e",
   "metadata": {},
   "outputs": [
    {
     "name": "stdout",
     "output_type": "stream",
     "text": [
      "<class 'bool'>\n",
      "True\n",
      "2\n",
      "1\n"
     ]
    }
   ],
   "source": [
    "#Ex\n",
    "x=True\n",
    "print(type(x))\n",
    "print(x)\n",
    "print(True+True)#1+1\n",
    "print(True+False)#1+0"
   ]
  },
  {
   "cell_type": "code",
   "execution_count": null,
   "id": "bd2f227e-162d-4fc8-98da-39eea51d8a05",
   "metadata": {},
   "outputs": [],
   "source": [
    "2. What are the three different types of Boolean operators?\n",
    "-The three types of Boolean operator are \n",
    "and(&),or(|),not(!)                                                                    "
   ]
  },
  {
   "cell_type": "code",
   "execution_count": null,
   "id": "9566d154-6250-4344-a8c8-2228db25e196",
   "metadata": {},
   "outputs": [],
   "source": [
    "3. Make a list of each Boolean operators truth tables (i.e. every possible combination of Boolean\n",
    "values for the operator and what it evaluate ).                                                                                     "
   ]
  },
  {
   "cell_type": "code",
   "execution_count": 30,
   "id": "4903c91f-44cc-44a4-89d8-1896f76e53f5",
   "metadata": {},
   "outputs": [
    {
     "name": "stdout",
     "output_type": "stream",
     "text": [
      "True\n",
      "False\n",
      "False\n",
      "False\n",
      "False\n",
      "False\n",
      "False\n",
      "False\n",
      "True\n",
      "False\n",
      "False\n",
      "False\n",
      "True\n",
      "True\n",
      "True\n",
      "True\n",
      "True\n",
      "True\n",
      "True\n",
      "False\n",
      "True\n",
      "True\n",
      "True\n",
      "False\n",
      "False\n",
      "True\n"
     ]
    }
   ],
   "source": [
    "#and\n",
    "print(True and True and True)   # 1 & 1 & 1=1\n",
    "print(True and True and False)  # 1 & 1 & 0=0\n",
    "print(True and False and True)  #1 & 0 & 1=0\n",
    "print(False and True and True)  #0 & 1 & 1=0\n",
    "print(False and False and True) #0 & 0 & 1=0\n",
    "print(False and True and False) #0 & 1 & 0=0\n",
    "print(True and False and False) # 1 & 0 & 0=0\n",
    "print(False and False and False)# 0 & 0 & 0=0\n",
    "print(True and True)            # 1 & 1=1\n",
    "print(True and False)           # 1 & 0=0\n",
    "print(False and True)           # 0 & 1=0\n",
    "print(False and False)          #0 & 0=0\n",
    "#or\n",
    "print(True or True or True)   # 1 & 1 & 1\n",
    "print(True or True or False)  # 1 & 1 & 0\n",
    "print(True or False or True)  #1 & 0 & 1\n",
    "print(False or True or True)  #0 & 1 & 1\n",
    "print(False or False or True) #0 & 0 & 1\n",
    "print(False or True or False) #0 & 1 & 0\n",
    "print(True or False or False) # 1 & 0 & 0\n",
    "print(False or False or False)# 0 & 0 & 0\n",
    "print(True or True)           # 1 & 1\n",
    "print(True or False)          # 1 & 0\n",
    "print(False or True)          # 0 & 1\n",
    "print(False or False)         #0 & 0\n",
    "#not\n",
    "a=True\n",
    "print(not a)#false\n",
    "b=False\n",
    "print(not b)#True"
   ]
  },
  {
   "cell_type": "code",
   "execution_count": null,
   "id": "accd3cbe-e2ab-4d28-bf13-1ce97853419a",
   "metadata": {},
   "outputs": [],
   "source": [
    "4. What are the values of the following expressions?\n",
    "(5 > 4) and (3 == 5)\n",
    "not (5 > 4)\n",
    "(5 > 4) or (3 == 5)\n",
    "not ((5 > 4) or (3 == 5))\n",
    "(True and True) and (True == False)\n",
    "(not False) or (not True)"
   ]
  },
  {
   "cell_type": "code",
   "execution_count": 32,
   "id": "f8f1d1d6-1026-435f-9017-b9edd6b5321d",
   "metadata": {},
   "outputs": [
    {
     "name": "stdout",
     "output_type": "stream",
     "text": [
      "False\n",
      "False\n",
      "True\n",
      "False\n",
      "False\n",
      "True\n"
     ]
    }
   ],
   "source": [
    "print((5 > 4) and (3 == 5))                 #1 & 0=0\n",
    "print(not (5 > 4))                          #!1=0\n",
    "print((5 > 4) or (3 == 5))                  #1||0=1\n",
    "print(not ((5 > 4) or (3 == 5)))            #!1(i.e '0')||0=0\n",
    "print((True and True) and (True == False))  #(1&1)&0=>(1)&0=0\n",
    "print((not False) or (not True))            #!0(i.e'1') || !1(i.e '0')=1"
   ]
  },
  {
   "cell_type": "code",
   "execution_count": null,
   "id": "a3f91fc7-f523-466c-ac50-8b506c0a488a",
   "metadata": {},
   "outputs": [],
   "source": [
    "5. What are the six comparison operators?\n",
    "The six comparision operators in python are:\n",
    "1. \"==\" ->Equal\n",
    "2. \">\"  ->Greater than\n",
    "3. \"<\"  ->Less than\n",
    "4. \">=\" ->Greater than or equal to\n",
    "5.\"<=\" ->Less than or equal to\n",
    "6. \"!=\" ->Not equal"
   ]
  },
  {
   "cell_type": "code",
   "execution_count": null,
   "id": "e5fe5057-baf2-484b-bfaa-321bafcb168c",
   "metadata": {},
   "outputs": [],
   "source": [
    "6. How do you tell the difference between the equal to and assignment operators?Describe a\n",
    "condition and when you would use one.                        "
   ]
  },
  {
   "cell_type": "code",
   "execution_count": 34,
   "id": "321415ac-a547-4717-881a-9d7f58b09b6f",
   "metadata": {},
   "outputs": [
    {
     "name": "stdout",
     "output_type": "stream",
     "text": [
      "Susmitha\n"
     ]
    }
   ],
   "source": [
    "#Equal to\n",
    "i=0#here we are assigning a value i.e '0' to variable 'i'\n",
    "if(i==0):#here we are using a comparision operator for knowing whether 'i' equal to '0' or not\n",
    "    print(\"Susmitha\")\n",
    "else:\n",
    "    print(\"Krishna\")"
   ]
  },
  {
   "cell_type": "code",
   "execution_count": null,
   "id": "ccb42a3b-f78c-4de2-9125-b606d9cd1618",
   "metadata": {},
   "outputs": [],
   "source": [
    "7. Identify the three blocks in this code:\n",
    "spam = 0\n",
    "if spam == 10:\n",
    "print('eggs')\n",
    "if spam > 5:\n",
    "print('bacon')\n",
    "else:\n",
    "print('ham')\n",
    "print('spam')\n",
    "print('spam')"
   ]
  },
  {
   "cell_type": "code",
   "execution_count": 38,
   "id": "e7548d00-7cf3-4f2f-a19b-24c8b8f2c86a",
   "metadata": {},
   "outputs": [
    {
     "name": "stdout",
     "output_type": "stream",
     "text": [
      "ham\n",
      "spam\n",
      "spam\n"
     ]
    }
   ],
   "source": [
    "spam = 0\n",
    "if spam == 10:\n",
    "    print('eggs')# need to give indentation\n",
    "if spam > 5:\n",
    "    print('bacon')# need to give indentation\n",
    "else:\n",
    "    print('ham')# need to give indentation\n",
    "print('spam')\n",
    "print('spam')"
   ]
  },
  {
   "cell_type": "code",
   "execution_count": null,
   "id": "d910a670-d0ca-4cb7-98b2-63df4fb337bb",
   "metadata": {},
   "outputs": [],
   "source": [
    "8. Write code that prints Hello if 1 is stored in spam, prints Howdy if 2 is stored in spam, and prints\n",
    "Greetings! if anything else is stored in spam."
   ]
  },
  {
   "cell_type": "code",
   "execution_count": 41,
   "id": "af016eb9-f136-488e-8a9a-530be82196cb",
   "metadata": {},
   "outputs": [
    {
     "name": "stdout",
     "output_type": "stream",
     "text": [
      "Hello\n"
     ]
    }
   ],
   "source": [
    "spam=1\n",
    "if(spam==1):\n",
    "    print(\"Hello\")\n",
    "elif(spam==2):\n",
    "    print(\"Howdy\")\n",
    "else:\n",
    "    print(\"Greetings!\")"
   ]
  },
  {
   "cell_type": "code",
   "execution_count": null,
   "id": "689a3085-9c4d-4d9f-a49a-f12f563dfdc5",
   "metadata": {},
   "outputs": [],
   "source": [
    "9.If your programme is stuck in an endless loop, what keys you’ll press?\n",
    "-We can exit from the loop by clicking \"ctrl+c\" keys in keyboard it helps to come out of the loop."
   ]
  },
  {
   "cell_type": "code",
   "execution_count": null,
   "id": "0d7c07fc-e7ff-4e59-b564-11025f007b5d",
   "metadata": {},
   "outputs": [],
   "source": [
    "10. How can you tell the difference between break and continue?\n",
    "-Break statement helps to stop entire process of the loop and terminates remaining iterations.\n",
    "-Continue statement helps to stop the particular iteration of the loop in which it is used but not terminates successive iterations."
   ]
  },
  {
   "cell_type": "code",
   "execution_count": null,
   "id": "364be74b-2857-4444-bd48-a5f8d23868c9",
   "metadata": {},
   "outputs": [],
   "source": [
    "11. In a for loop, what is the difference between range(10), range(0, 10), and range(0, 10, 1)?\n",
    "-range(10)Here it prints starting from 0 to 9 which are 10 values.always uperbound(10)will cancel\n",
    "-range(0,10)Here it starts with lower bound'0' and end upto upperbound '10' and it is not included.\n",
    "-range(0,10,1)here 1st is lower bound from where it starts and 2nd is upper bound upto which value prints expect last value and 3rd is increment it always increase by value+1"
   ]
  },
  {
   "cell_type": "code",
   "execution_count": 42,
   "id": "c9160493-5d31-4124-84f3-965f87a5f671",
   "metadata": {},
   "outputs": [
    {
     "name": "stdout",
     "output_type": "stream",
     "text": [
      "0\n",
      "1\n",
      "2\n",
      "3\n",
      "4\n",
      "5\n",
      "6\n",
      "7\n",
      "8\n",
      "9\n"
     ]
    }
   ],
   "source": [
    "for i in range(10):\n",
    "    print(i)"
   ]
  },
  {
   "cell_type": "code",
   "execution_count": 43,
   "id": "1bfa8ac6-23b9-4c72-bf27-d61aef224641",
   "metadata": {},
   "outputs": [
    {
     "name": "stdout",
     "output_type": "stream",
     "text": [
      "0\n",
      "1\n",
      "2\n",
      "3\n",
      "4\n",
      "5\n",
      "6\n",
      "7\n",
      "8\n",
      "9\n"
     ]
    }
   ],
   "source": [
    "for i in range(0,10):\n",
    "    print(i)"
   ]
  },
  {
   "cell_type": "code",
   "execution_count": 45,
   "id": "191caa5a-a4e9-448c-8e31-222bf1073838",
   "metadata": {},
   "outputs": [
    {
     "name": "stdout",
     "output_type": "stream",
     "text": [
      "0\n",
      "1\n",
      "2\n",
      "3\n",
      "4\n",
      "5\n",
      "6\n",
      "7\n",
      "8\n",
      "9\n"
     ]
    }
   ],
   "source": [
    "for i in range(0,10,1):\n",
    "    print(i)"
   ]
  },
  {
   "cell_type": "code",
   "execution_count": null,
   "id": "f38be5ad-bea7-4ff3-ac13-df5b0ac0f17e",
   "metadata": {},
   "outputs": [],
   "source": [
    "12. Write a short program that prints the numbers 1 to 10 using a for loop. Then write an equivalent\n",
    "program that prints the numbers 1 to 10 using a while loop."
   ]
  },
  {
   "cell_type": "code",
   "execution_count": 46,
   "id": "437fdf76-ae6c-47e0-ba9e-1b8e9c733127",
   "metadata": {},
   "outputs": [
    {
     "name": "stdout",
     "output_type": "stream",
     "text": [
      "1\n",
      "2\n",
      "3\n",
      "4\n",
      "5\n",
      "6\n",
      "7\n",
      "8\n",
      "9\n",
      "10\n"
     ]
    }
   ],
   "source": [
    "#for loop\n",
    "for i in range(1,11,1):\n",
    "    print(i)"
   ]
  },
  {
   "cell_type": "code",
   "execution_count": 47,
   "id": "ad09a849-32d9-4357-8a76-fc24aac0a1ff",
   "metadata": {},
   "outputs": [
    {
     "name": "stdout",
     "output_type": "stream",
     "text": [
      "1\n",
      "2\n",
      "3\n",
      "4\n",
      "5\n",
      "6\n",
      "7\n",
      "8\n",
      "9\n",
      "10\n"
     ]
    }
   ],
   "source": [
    "#While loop\n",
    "count=1\n",
    "while count <=10:\n",
    "    print(count)\n",
    "    count+=1"
   ]
  },
  {
   "cell_type": "code",
   "execution_count": null,
   "id": "fb6bd96d-038c-4514-82ad-3b1c714fe394",
   "metadata": {},
   "outputs": [],
   "source": [
    "13. If you had a function named bacon() inside a module named spam, how would you call it after\n",
    "importing spam?\n",
    "-We can call it by (spam.bacon())"
   ]
  },
  {
   "cell_type": "code",
   "execution_count": null,
   "id": "f87a585c-cd4c-43e4-b547-4fe4605fb082",
   "metadata": {},
   "outputs": [],
   "source": []
  },
  {
   "cell_type": "code",
   "execution_count": null,
   "id": "c401fed7-b807-40be-a1f3-8dc3e009757d",
   "metadata": {},
   "outputs": [],
   "source": []
  }
 ],
 "metadata": {
  "kernelspec": {
   "display_name": "Python 3 (ipykernel)",
   "language": "python",
   "name": "python3"
  },
  "language_info": {
   "codemirror_mode": {
    "name": "ipython",
    "version": 3
   },
   "file_extension": ".py",
   "mimetype": "text/x-python",
   "name": "python",
   "nbconvert_exporter": "python",
   "pygments_lexer": "ipython3",
   "version": "3.10.6"
  }
 },
 "nbformat": 4,
 "nbformat_minor": 5
}
