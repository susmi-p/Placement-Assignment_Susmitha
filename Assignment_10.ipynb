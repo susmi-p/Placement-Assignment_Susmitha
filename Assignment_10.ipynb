{
 "cells": [
  {
   "cell_type": "markdown",
   "id": "11fc637f-d685-4b48-9e7c-f9ef17c8f3ca",
   "metadata": {},
   "source": [
    "1. What is the role of try and exception block?\n"
   ]
  },
  {
   "cell_type": "raw",
   "id": "93a62216-0aa1-4e6e-a6bb-8ee0c9a1f3cb",
   "metadata": {},
   "source": [
    "The Try and except in python are ctch and handling exceptions.The Try block is a normal part of program test code for errors and the except block lets us handle the error of code in try block."
   ]
  },
  {
   "cell_type": "markdown",
   "id": "9473ae42-9f06-4d64-8cb7-8299f289a095",
   "metadata": {},
   "source": [
    "2. What is the syntax for a basic try-except block?"
   ]
  },
  {
   "cell_type": "raw",
   "id": "79529335-d726-405f-91fb-a87d733bdb59",
   "metadata": {},
   "source": [
    "It will be in the form of try and except block\n",
    "try:\n",
    "   #some code here\n",
    "except:\n",
    "   #This block executed if there is error in try block\n",
    "   #It handle according to the type of error"
   ]
  },
  {
   "cell_type": "markdown",
   "id": "624d58da-e83c-4da9-b8b9-5263be7a8baf",
   "metadata": {},
   "source": [
    "3. What happens if an exception occurs inside a try block and there is no matching except block?"
   ]
  },
  {
   "cell_type": "raw",
   "id": "d82c550a-4f1f-4880-93b8-9e7400f81ffe",
   "metadata": {},
   "source": [
    "If an exception occurs inside a try block the execution of remaining code in the block is stopped or skipped.And then it checked the exception block whether it match the type of error which we given in except block if yes then it execute the remaining in the except block. "
   ]
  },
  {
   "cell_type": "markdown",
   "id": "535703b5-8681-4394-8b59-9fbaa3191f19",
   "metadata": {},
   "source": [
    "4. What is the difference between using a bare except block and specifying a specific exception type?"
   ]
  },
  {
   "cell_type": "code",
   "execution_count": 14,
   "id": "3ed0d07f-227b-401f-950f-dc660442814c",
   "metadata": {},
   "outputs": [
    {
     "name": "stdout",
     "output_type": "stream",
     "text": [
      "type error\n"
     ]
    }
   ],
   "source": [
    "try:\n",
    "    x='fmsd'\n",
    "    if(x==fmsd):\n",
    "        print(x)\n",
    "except:\n",
    "    print(\"type error\")\n",
    "#here we not givenany type of except which is bare except block so it executes\n",
    "#whatever the error may be but it goed to except block and executes statement"
   ]
  },
  {
   "cell_type": "code",
   "execution_count": 15,
   "id": "b75d43cf-dd76-42c3-a1e5-61a4316eff6e",
   "metadata": {},
   "outputs": [
    {
     "ename": "NameError",
     "evalue": "name 'fmsd' is not defined",
     "output_type": "error",
     "traceback": [
      "\u001b[0;31m---------------------------------------------------------------------------\u001b[0m",
      "\u001b[0;31mNameError\u001b[0m                                 Traceback (most recent call last)",
      "Cell \u001b[0;32mIn [15], line 3\u001b[0m\n\u001b[1;32m      1\u001b[0m \u001b[38;5;28;01mtry\u001b[39;00m:\n\u001b[1;32m      2\u001b[0m     x\u001b[38;5;241m=\u001b[39m\u001b[38;5;124m'\u001b[39m\u001b[38;5;124mfmsd\u001b[39m\u001b[38;5;124m'\u001b[39m\n\u001b[0;32m----> 3\u001b[0m     \u001b[38;5;28;01mif\u001b[39;00m(x\u001b[38;5;241m==\u001b[39m\u001b[43mfmsd\u001b[49m):\n\u001b[1;32m      4\u001b[0m         \u001b[38;5;28mprint\u001b[39m(x)\n\u001b[1;32m      5\u001b[0m \u001b[38;5;28;01mexcept\u001b[39;00m \u001b[38;5;167;01mTypeError\u001b[39;00m:\n",
      "\u001b[0;31mNameError\u001b[0m: name 'fmsd' is not defined"
     ]
    }
   ],
   "source": [
    "try:\n",
    "    x='fmsd'\n",
    "    if(x==fmsd):\n",
    "        print(x)\n",
    "except TypeError:\n",
    "    print(\"type error\")\n",
    "#Here we wrote the type of except so it only takes that type of error in except\n",
    "#If anyother errors came it directly gives error but not executes exceptblock \n",
    "#If same type of error occurs then only it shows output"
   ]
  },
  {
   "cell_type": "markdown",
   "id": "74d733cc-49ff-4258-84fc-df848830257a",
   "metadata": {},
   "source": [
    "5. Can you have nested try-except blocks in Python? If yes, then give an example."
   ]
  },
  {
   "cell_type": "code",
   "execution_count": 16,
   "id": "39496fa9-3202-4bc8-8e82-480e93603aec",
   "metadata": {},
   "outputs": [
    {
     "name": "stdout",
     "output_type": "stream",
     "text": [
      "It is the outer except block\n",
      "nested try block\n",
      "It is a outer except block\n",
      "it is a zero division error the denominator value can not be '0' \n"
     ]
    }
   ],
   "source": [
    "x=4\n",
    "y=0\n",
    "try:\n",
    "    print(\"It is the outer except block\")\n",
    "    try:\n",
    "        print(\"nested try block\")\n",
    "        print(x/y)\n",
    "    except TypeError:\n",
    "        print(\"Nested except block\")\n",
    "        print(\"it is a Typeerror\")\n",
    "except ZeroDivisionError:\n",
    "    print(\"It is a outer except block\")\n",
    "    print(\"it is a zero division error the denominator value can not be '0' \")\n",
    "        \n",
    "#yes we can have nested try-except in python ,here we give 2 types of errorexcept nested blocks\n",
    "#here it is not a type error so that block not excecuted but zero division block which is outside executed."
   ]
  },
  {
   "cell_type": "markdown",
   "id": "85d1238d-6e25-44a2-b457-8cc0dbf680ae",
   "metadata": {},
   "source": [
    "6. Can we use multiple exception blocks, if yes then give an example."
   ]
  },
  {
   "cell_type": "code",
   "execution_count": 22,
   "id": "054f4a77-e8fc-4dc1-acad-9b07afe646cb",
   "metadata": {},
   "outputs": [
    {
     "name": "stdin",
     "output_type": "stream",
     "text": [
      "enter the value of a 8\n",
      "enter the value of b 2\n"
     ]
    },
    {
     "name": "stdout",
     "output_type": "stream",
     "text": [
      "The type of numerator and denominator need to be same\n"
     ]
    }
   ],
   "source": [
    "a=int(input(\"enter the value of a\"))\n",
    "b=int(input(\"enter the value of b\"))\n",
    "try:\n",
    "    total=str(a)/b\n",
    "    print(total)\n",
    "except ZeroDivisionError:\n",
    "    print(\"the denominator value can not be '0'\")\n",
    "except TypeError:\n",
    "    print(\"The type of numerator and denominator need to be same\")\n",
    "    \n",
    "#here numerator converted to string so numerator and denominator is not same type so here type error occurs \n",
    "#so typeerror except block executed in both except blocks"
   ]
  },
  {
   "cell_type": "code",
   "execution_count": 23,
   "id": "61e002f9-dc8c-4b6c-91a8-f431d77bbd8e",
   "metadata": {},
   "outputs": [
    {
     "name": "stdin",
     "output_type": "stream",
     "text": [
      "enter the value of a 5\n",
      "enter the value of b 0\n"
     ]
    },
    {
     "name": "stdout",
     "output_type": "stream",
     "text": [
      "the denominator value can not be '0'\n"
     ]
    }
   ],
   "source": [
    "a=int(input(\"enter the value of a\"))\n",
    "b=int(input(\"enter the value of b\"))\n",
    "try:\n",
    "    total=(a)/b\n",
    "    print(total)\n",
    "except ZeroDivisionError:\n",
    "    print(\"the denominator value can not be '0'\")\n",
    "except TypeError:\n",
    "    print(\"The type of numerator and denominator need to be same\")\n",
    "#here zero division except block executed as this the error in the code\n",
    "#like this we can write multiple except blocks according to the error type."
   ]
  },
  {
   "cell_type": "raw",
   "id": "612ab383-811b-4518-8a49-f0b7651b2766",
   "metadata": {},
   "source": [
    "7. Write the reason due to which following errors are raised:\n",
    "a. EOFError\n",
    "b. FloatingPointError\n",
    "c. IndexError\n",
    "d. MemoryError\n",
    "e. OverflowError\n",
    "f. TabError\n",
    "g. ValueError"
   ]
  },
  {
   "cell_type": "raw",
   "id": "c8262018-3f7c-4d66-81e3-c30506900d19",
   "metadata": {},
   "source": [
    "a.EOFError:It is raised when the end of file condition is reached without reading any data by input.\n",
    "b.FloatingPointError:A floating point exception is an error that occurs when you try to do something impossible with a floating point number, such as divide by zero.\n",
    "c.IndexError:It is raised when the index or subscript in a sequence is out of range.\n",
    "d.MemoryError:It raised when programs run out of memory.\n",
    "e.OverflowError:It is raised when the result of a calculation exceeds the maximum limit for the numeric data type.\n",
    "f.TabError:It raised when the indentations consist of inconsistent tabs or spaces. \n",
    "g.ValueError:It is raised when a  operation receives an argument that has the right data type but mismatched or inappropriate values."
   ]
  },
  {
   "cell_type": "raw",
   "id": "ca7a1148-21b4-4399-935b-1cbd37a73063",
   "metadata": {},
   "source": [
    "8. Write code for the following given scenario and add try-exception block to it.\n",
    "a. Program to divide two numbers\n",
    "b. Program to convert a string to an integer\n",
    "c. Program to access an element in a list\n",
    "d. Program to handle a specific exception\n",
    "e. Program to handle any exception"
   ]
  },
  {
   "cell_type": "code",
   "execution_count": 28,
   "id": "ade32be3-8dad-42bc-aef1-09495b9a116d",
   "metadata": {},
   "outputs": [
    {
     "name": "stdin",
     "output_type": "stream",
     "text": [
      "enter the value of a 5\n",
      "enter the value of b 0\n"
     ]
    },
    {
     "name": "stdout",
     "output_type": "stream",
     "text": [
      "the denominator value can not be '0'\n"
     ]
    }
   ],
   "source": [
    "#a. Program to divide two numbers\n",
    "a=int(input(\"enter the value of a\"))\n",
    "b=int(input(\"enter the value of b\"))\n",
    "try:\n",
    "    total=(a)/b\n",
    "    print(total)\n",
    "except ZeroDivisionError:\n",
    "    print(\"the denominator value can not be '0'\")"
   ]
  },
  {
   "cell_type": "code",
   "execution_count": 29,
   "id": "05b8694e-3390-418f-bf18-51b2e2305aa6",
   "metadata": {},
   "outputs": [
    {
     "name": "stdout",
     "output_type": "stream",
     "text": [
      "Please enter an integer\n"
     ]
    }
   ],
   "source": [
    "#b. Program to convert a string to an integer\n",
    "string = \"Susmitha\"\n",
    "try:\n",
    "    string_to_int = int(string)\n",
    "    print(string_to_int)\n",
    "except ValueError:\n",
    "    print('Please enter an integer')"
   ]
  },
  {
   "cell_type": "code",
   "execution_count": 30,
   "id": "b9e124ad-7d7c-4ebf-a5af-bf18bc566c58",
   "metadata": {},
   "outputs": [
    {
     "name": "stdout",
     "output_type": "stream",
     "text": [
      "Index Out of Bound.\n"
     ]
    }
   ],
   "source": [
    "#c. Program to access an element in a list\n",
    "try:\n",
    "    list1=[1,2,\"sus\",\"Ram\"]\n",
    "    print(list1[5])\n",
    "except IndexError:\n",
    "    print(\"Index Out of Bound.\")"
   ]
  },
  {
   "cell_type": "code",
   "execution_count": 31,
   "id": "b8983e83-8957-447b-b6a5-a4dab85e09cd",
   "metadata": {},
   "outputs": [
    {
     "name": "stdout",
     "output_type": "stream",
     "text": [
      "TypeError Occurred\n"
     ]
    }
   ],
   "source": [
    "#d. Program to handle a specific exception\n",
    "try:\n",
    "    a=5\n",
    "    b='0'\n",
    "    print(a+b)\n",
    "except TypeError:\n",
    "    print('TypeError Occurred')"
   ]
  },
  {
   "cell_type": "code",
   "execution_count": 37,
   "id": "c8bd52fa-ca52-4138-8978-3958facd5b0a",
   "metadata": {},
   "outputs": [
    {
     "name": "stdout",
     "output_type": "stream",
     "text": [
      "Some error occurred.\n"
     ]
    }
   ],
   "source": [
    "#e. Program to handle any exception\n",
    "try:\n",
    "    a=5\n",
    "    b=0\n",
    "    print (a/b)\n",
    "except:\n",
    "    print('Some error occurred.')"
   ]
  },
  {
   "cell_type": "code",
   "execution_count": null,
   "id": "ead73cbb-acda-4f03-b40a-adc696a9f7f9",
   "metadata": {},
   "outputs": [],
   "source": []
  },
  {
   "cell_type": "code",
   "execution_count": null,
   "id": "393e509b-cd35-44e3-9134-c39ac7864592",
   "metadata": {},
   "outputs": [],
   "source": []
  },
  {
   "cell_type": "code",
   "execution_count": null,
   "id": "35e32441-3876-4992-9f28-782d4f393e38",
   "metadata": {},
   "outputs": [],
   "source": []
  },
  {
   "cell_type": "code",
   "execution_count": null,
   "id": "4a82615c-193b-4562-978c-bdf07d42297a",
   "metadata": {},
   "outputs": [],
   "source": []
  },
  {
   "cell_type": "code",
   "execution_count": null,
   "id": "a2f9f013-c45b-4a24-b8cf-716287eaad45",
   "metadata": {},
   "outputs": [],
   "source": []
  },
  {
   "cell_type": "code",
   "execution_count": null,
   "id": "463e4a47-95db-45c8-9652-8b5017c9e0e2",
   "metadata": {},
   "outputs": [],
   "source": []
  },
  {
   "cell_type": "code",
   "execution_count": null,
   "id": "d20d200d-0243-4cae-bdb7-b8856d39e1f0",
   "metadata": {},
   "outputs": [],
   "source": []
  }
 ],
 "metadata": {
  "kernelspec": {
   "display_name": "Python 3 (ipykernel)",
   "language": "python",
   "name": "python3"
  },
  "language_info": {
   "codemirror_mode": {
    "name": "ipython",
    "version": 3
   },
   "file_extension": ".py",
   "mimetype": "text/x-python",
   "name": "python",
   "nbconvert_exporter": "python",
   "pygments_lexer": "ipython3",
   "version": "3.10.6"
  }
 },
 "nbformat": 4,
 "nbformat_minor": 5
}
